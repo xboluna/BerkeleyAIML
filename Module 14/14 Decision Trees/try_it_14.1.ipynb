{
 "cells": [
  {
   "cell_type": "markdown",
   "metadata": {},
   "source": [
    "### Generating Overfit Tree Models\n",
    "\n",
    "By default, you scikitlearn tree models will grow until every node is pure.  To explore this, you are to build different models using the `max_depth` parameter and determine when the tree begins to overfit the data.  For depths from `max_depth = 1` until the tree is completed, keep track of the accuracy on training vs. test data and generate a plot with depths as the horizontal axis and accuracy as the vertical axis for train and test data.  \n",
    "\n",
    "Repeat this process with different splits of the data to determine at what depth the tree begins to overfit.  Share your results with your peers and discuss your approach to generating the visualization.  What are the consequences of this overfitting for your approach to building Decision Trees?   We provide a small dataset with health data where your goal is to predict whether or not the individuals survive."
   ]
  },
  {
   "cell_type": "code",
   "execution_count": 5,
   "metadata": {},
   "outputs": [],
   "source": [
    "import pandas as pd\n",
    "from sklearn.tree import DecisionTreeClassifier, plot_tree\n",
    "from sklearn.model_selection import train_test_split"
   ]
  },
  {
   "cell_type": "code",
   "execution_count": 2,
   "metadata": {},
   "outputs": [],
   "source": [
    "data = pd.read_csv('data/Whickham.txt')"
   ]
  },
  {
   "cell_type": "code",
   "execution_count": 9,
   "metadata": {},
   "outputs": [
    {
     "data": {
      "text/html": [
       "<div>\n",
       "<style scoped>\n",
       "    .dataframe tbody tr th:only-of-type {\n",
       "        vertical-align: middle;\n",
       "    }\n",
       "\n",
       "    .dataframe tbody tr th {\n",
       "        vertical-align: top;\n",
       "    }\n",
       "\n",
       "    .dataframe thead th {\n",
       "        text-align: right;\n",
       "    }\n",
       "</style>\n",
       "<table border=\"1\" class=\"dataframe\">\n",
       "  <thead>\n",
       "    <tr style=\"text-align: right;\">\n",
       "      <th></th>\n",
       "      <th>outcome</th>\n",
       "      <th>smoker</th>\n",
       "      <th>age</th>\n",
       "    </tr>\n",
       "  </thead>\n",
       "  <tbody>\n",
       "    <tr>\n",
       "      <th>0</th>\n",
       "      <td>1</td>\n",
       "      <td>1</td>\n",
       "      <td>23</td>\n",
       "    </tr>\n",
       "    <tr>\n",
       "      <th>1</th>\n",
       "      <td>1</td>\n",
       "      <td>1</td>\n",
       "      <td>18</td>\n",
       "    </tr>\n",
       "    <tr>\n",
       "      <th>2</th>\n",
       "      <td>0</td>\n",
       "      <td>1</td>\n",
       "      <td>71</td>\n",
       "    </tr>\n",
       "    <tr>\n",
       "      <th>3</th>\n",
       "      <td>1</td>\n",
       "      <td>0</td>\n",
       "      <td>67</td>\n",
       "    </tr>\n",
       "    <tr>\n",
       "      <th>4</th>\n",
       "      <td>1</td>\n",
       "      <td>0</td>\n",
       "      <td>64</td>\n",
       "    </tr>\n",
       "  </tbody>\n",
       "</table>\n",
       "</div>"
      ],
      "text/plain": [
       "   outcome  smoker  age\n",
       "0        1       1   23\n",
       "1        1       1   18\n",
       "2        0       1   71\n",
       "3        1       0   67\n",
       "4        1       0   64"
      ]
     },
     "execution_count": 9,
     "metadata": {},
     "output_type": "execute_result"
    }
   ],
   "source": [
    "data.outcome = data.outcome.map({'Alive':1, 'Dead':0})\n",
    "data.smoker = data.smoker.map({'Yes':1, 'No':0})\n",
    "data.head()"
   ]
  },
  {
   "cell_type": "code",
   "execution_count": 10,
   "metadata": {},
   "outputs": [],
   "source": [
    "X = data[['smoker', 'age']]\n",
    "y = data['outcome']"
   ]
  },
  {
   "cell_type": "code",
   "execution_count": 94,
   "metadata": {},
   "outputs": [],
   "source": [
    "score = pd.DataFrame({}, columns = ['Depth', 'Split', 'Train', 'Test'])\n",
    "\n",
    "# score = {'Depth':[], 'Train_Accuracy':[], 'Test_Accuracy':[]}\n",
    "\n",
    "for max_depth in np.arange(1, 21):\n",
    "    for test_size in np.linspace(.1,.9,9):\n",
    "\n",
    "        X_train, X_test, y_train, y_test = train_test_split(X, y, test_size = test_size)\n",
    "\n",
    "        model = DecisionTreeClassifier( criterion = 'gini', max_depth = max_depth )\n",
    "\n",
    "        model.fit(X_train ,y_train)\n",
    "        \n",
    "        score = score.append({'Depth':max_depth, 'Split':test_size, \\\n",
    "            'Train':model.score(X_train, y_train), 'Test':model.score(X_test, y_test)}, ignore_index = True)\n",
    "\n",
    "        # score['Depth'].append(max_depth)\n",
    "        # score['Train_Accuracy'].append(model.score(X_train, y_train))\n",
    "        # score['Test_Accuracy'].append(model.score(X_test, y_test))\n",
    "\n",
    "# score = pd.DataFrame(score)\n"
   ]
  },
  {
   "cell_type": "code",
   "execution_count": 127,
   "metadata": {},
   "outputs": [
    {
     "data": {
      "application/vnd.plotly.v1+json": {
       "config": {
        "plotlyServerURL": "https://plot.ly"
       },
       "data": [
        {
         "coloraxis": "coloraxis",
         "hovertemplate": "Maximum Depth: %{x}<br>Test Split Size: %{y}<br>Training Accuracy: %{z}<extra></extra>",
         "name": "0",
         "type": "heatmap",
         "xaxis": "x",
         "yaxis": "y",
         "z": [
          [
           0.9007633587786259,
           0.9007633587786259,
           0.8473282442748091,
           0.8702290076335878,
           0.9007633587786259,
           0.9389312977099237,
           0.9236641221374046,
           0.9312977099236641,
           0.8854961832061069,
           0.9541984732824428,
           0.9389312977099237,
           0.916030534351145,
           0.8931297709923665,
           0.9694656488549618,
           0.9312977099236641,
           0.9618320610687023,
           0.9618320610687023,
           0.9389312977099237,
           0.9389312977099237,
           0.9312977099236641
          ],
          [
           0.8473282442748091,
           0.8320610687022901,
           0.8816793893129771,
           0.8702290076335878,
           0.8854961832061069,
           0.8854961832061069,
           0.9007633587786259,
           0.9236641221374046,
           0.9236641221374046,
           0.8854961832061069,
           0.916030534351145,
           0.9465648854961832,
           0.9007633587786259,
           0.8854961832061069,
           0.9198473282442748,
           0.8702290076335878,
           0.8625954198473282,
           0.8893129770992366,
           0.8778625954198473,
           0.9045801526717557
          ],
          [
           0.8350253807106599,
           0.8629441624365483,
           0.8527918781725888,
           0.8629441624365483,
           0.8629441624365483,
           0.8654822335025381,
           0.8629441624365483,
           0.8883248730964467,
           0.8883248730964467,
           0.8934010152284264,
           0.8629441624365483,
           0.8756345177664975,
           0.9010152284263959,
           0.8883248730964467,
           0.8883248730964467,
           0.9035532994923858,
           0.8857868020304569,
           0.8883248730964467,
           0.8781725888324873,
           0.9060913705583756
          ],
          [
           0.8666666666666667,
           0.8419047619047619,
           0.8685714285714285,
           0.8495238095238096,
           0.8933333333333333,
           0.8742857142857143,
           0.8819047619047619,
           0.878095238095238,
           0.8723809523809524,
           0.8723809523809524,
           0.8571428571428571,
           0.8876190476190476,
           0.8666666666666667,
           0.8895238095238095,
           0.8704761904761905,
           0.8723809523809524,
           0.8990476190476191,
           0.8685714285714285,
           0.8609523809523809,
           0.8742857142857143
          ],
          [
           0.8447488584474886,
           0.852359208523592,
           0.8660578386605784,
           0.8508371385083714,
           0.8645357686453576,
           0.8538812785388128,
           0.8599695585996956,
           0.8706240487062404,
           0.8736681887366818,
           0.8706240487062404,
           0.8554033485540334,
           0.8843226788432268,
           0.8706240487062404,
           0.8858447488584474,
           0.8721461187214612,
           0.8767123287671232,
           0.882800608828006,
           0.8706240487062404,
           0.863013698630137,
           0.8660578386605784
          ],
          [
           0.8692893401015228,
           0.8629441624365483,
           0.8451776649746193,
           0.866751269035533,
           0.8604060913705583,
           0.8616751269035533,
           0.8642131979695431,
           0.8629441624365483,
           0.8692893401015228,
           0.868020304568528,
           0.8553299492385786,
           0.8743654822335025,
           0.8654822335025381,
           0.8642131979695431,
           0.8578680203045685,
           0.8705583756345178,
           0.868020304568528,
           0.8629441624365483,
           0.8730964467005076,
           0.8629441624365483
          ],
          [
           0.85310119695321,
           0.8465723612622416,
           0.8476605005440696,
           0.8487486398258978,
           0.8607181719260065,
           0.8781284004352558,
           0.8683351468988031,
           0.8813928182807399,
           0.8618063112078346,
           0.8650707290533188,
           0.8596300326441785,
           0.8596300326441785,
           0.8596300326441785,
           0.8705114254624592,
           0.8748639825897715,
           0.8770402611534276,
           0.8715995647442872,
           0.8715995647442872,
           0.8661588683351469,
           0.8639825897714908
          ],
          [
           0.8582302568981922,
           0.8525214081826832,
           0.8477640342530923,
           0.8525214081826832,
           0.8658420551855376,
           0.8620361560418649,
           0.8629876308277831,
           0.8648905803996194,
           0.8696479543292103,
           0.8686964795432921,
           0.8610846812559467,
           0.8553758325404377,
           0.8620361560418649,
           0.8658420551855376,
           0.8696479543292103,
           0.8639391056137012,
           0.8677450047573739,
           0.8591817316841104,
           0.8629876308277831,
           0.8620361560418649
          ],
          [
           0.8510998307952623,
           0.8544839255499154,
           0.8553299492385786,
           0.8553299492385786,
           0.8485617597292724,
           0.8654822335025381,
           0.8612521150592216,
           0.8553299492385786,
           0.8587140439932318,
           0.8604060913705583,
           0.8595600676818951,
           0.8578680203045685,
           0.862098138747885,
           0.8629441624365483,
           0.8587140439932318,
           0.8629441624365483,
           0.8629441624365483,
           0.8637901861252115,
           0.8612521150592216,
           0.862098138747885
          ]
         ]
        }
       ],
       "layout": {
        "coloraxis": {
         "colorbar": {
          "title": {
           "text": "Training Accuracy"
          }
         },
         "colorscale": [
          [
           0,
           "#0d0887"
          ],
          [
           0.1111111111111111,
           "#46039f"
          ],
          [
           0.2222222222222222,
           "#7201a8"
          ],
          [
           0.3333333333333333,
           "#9c179e"
          ],
          [
           0.4444444444444444,
           "#bd3786"
          ],
          [
           0.5555555555555556,
           "#d8576b"
          ],
          [
           0.6666666666666666,
           "#ed7953"
          ],
          [
           0.7777777777777778,
           "#fb9f3a"
          ],
          [
           0.8888888888888888,
           "#fdca26"
          ],
          [
           1,
           "#f0f921"
          ]
         ]
        },
        "margin": {
         "t": 60
        },
        "template": {
         "data": {
          "bar": [
           {
            "error_x": {
             "color": "#2a3f5f"
            },
            "error_y": {
             "color": "#2a3f5f"
            },
            "marker": {
             "line": {
              "color": "#E5ECF6",
              "width": 0.5
             },
             "pattern": {
              "fillmode": "overlay",
              "size": 10,
              "solidity": 0.2
             }
            },
            "type": "bar"
           }
          ],
          "barpolar": [
           {
            "marker": {
             "line": {
              "color": "#E5ECF6",
              "width": 0.5
             },
             "pattern": {
              "fillmode": "overlay",
              "size": 10,
              "solidity": 0.2
             }
            },
            "type": "barpolar"
           }
          ],
          "carpet": [
           {
            "aaxis": {
             "endlinecolor": "#2a3f5f",
             "gridcolor": "white",
             "linecolor": "white",
             "minorgridcolor": "white",
             "startlinecolor": "#2a3f5f"
            },
            "baxis": {
             "endlinecolor": "#2a3f5f",
             "gridcolor": "white",
             "linecolor": "white",
             "minorgridcolor": "white",
             "startlinecolor": "#2a3f5f"
            },
            "type": "carpet"
           }
          ],
          "choropleth": [
           {
            "colorbar": {
             "outlinewidth": 0,
             "ticks": ""
            },
            "type": "choropleth"
           }
          ],
          "contour": [
           {
            "colorbar": {
             "outlinewidth": 0,
             "ticks": ""
            },
            "colorscale": [
             [
              0,
              "#0d0887"
             ],
             [
              0.1111111111111111,
              "#46039f"
             ],
             [
              0.2222222222222222,
              "#7201a8"
             ],
             [
              0.3333333333333333,
              "#9c179e"
             ],
             [
              0.4444444444444444,
              "#bd3786"
             ],
             [
              0.5555555555555556,
              "#d8576b"
             ],
             [
              0.6666666666666666,
              "#ed7953"
             ],
             [
              0.7777777777777778,
              "#fb9f3a"
             ],
             [
              0.8888888888888888,
              "#fdca26"
             ],
             [
              1,
              "#f0f921"
             ]
            ],
            "type": "contour"
           }
          ],
          "contourcarpet": [
           {
            "colorbar": {
             "outlinewidth": 0,
             "ticks": ""
            },
            "type": "contourcarpet"
           }
          ],
          "heatmap": [
           {
            "colorbar": {
             "outlinewidth": 0,
             "ticks": ""
            },
            "colorscale": [
             [
              0,
              "#0d0887"
             ],
             [
              0.1111111111111111,
              "#46039f"
             ],
             [
              0.2222222222222222,
              "#7201a8"
             ],
             [
              0.3333333333333333,
              "#9c179e"
             ],
             [
              0.4444444444444444,
              "#bd3786"
             ],
             [
              0.5555555555555556,
              "#d8576b"
             ],
             [
              0.6666666666666666,
              "#ed7953"
             ],
             [
              0.7777777777777778,
              "#fb9f3a"
             ],
             [
              0.8888888888888888,
              "#fdca26"
             ],
             [
              1,
              "#f0f921"
             ]
            ],
            "type": "heatmap"
           }
          ],
          "heatmapgl": [
           {
            "colorbar": {
             "outlinewidth": 0,
             "ticks": ""
            },
            "colorscale": [
             [
              0,
              "#0d0887"
             ],
             [
              0.1111111111111111,
              "#46039f"
             ],
             [
              0.2222222222222222,
              "#7201a8"
             ],
             [
              0.3333333333333333,
              "#9c179e"
             ],
             [
              0.4444444444444444,
              "#bd3786"
             ],
             [
              0.5555555555555556,
              "#d8576b"
             ],
             [
              0.6666666666666666,
              "#ed7953"
             ],
             [
              0.7777777777777778,
              "#fb9f3a"
             ],
             [
              0.8888888888888888,
              "#fdca26"
             ],
             [
              1,
              "#f0f921"
             ]
            ],
            "type": "heatmapgl"
           }
          ],
          "histogram": [
           {
            "marker": {
             "pattern": {
              "fillmode": "overlay",
              "size": 10,
              "solidity": 0.2
             }
            },
            "type": "histogram"
           }
          ],
          "histogram2d": [
           {
            "colorbar": {
             "outlinewidth": 0,
             "ticks": ""
            },
            "colorscale": [
             [
              0,
              "#0d0887"
             ],
             [
              0.1111111111111111,
              "#46039f"
             ],
             [
              0.2222222222222222,
              "#7201a8"
             ],
             [
              0.3333333333333333,
              "#9c179e"
             ],
             [
              0.4444444444444444,
              "#bd3786"
             ],
             [
              0.5555555555555556,
              "#d8576b"
             ],
             [
              0.6666666666666666,
              "#ed7953"
             ],
             [
              0.7777777777777778,
              "#fb9f3a"
             ],
             [
              0.8888888888888888,
              "#fdca26"
             ],
             [
              1,
              "#f0f921"
             ]
            ],
            "type": "histogram2d"
           }
          ],
          "histogram2dcontour": [
           {
            "colorbar": {
             "outlinewidth": 0,
             "ticks": ""
            },
            "colorscale": [
             [
              0,
              "#0d0887"
             ],
             [
              0.1111111111111111,
              "#46039f"
             ],
             [
              0.2222222222222222,
              "#7201a8"
             ],
             [
              0.3333333333333333,
              "#9c179e"
             ],
             [
              0.4444444444444444,
              "#bd3786"
             ],
             [
              0.5555555555555556,
              "#d8576b"
             ],
             [
              0.6666666666666666,
              "#ed7953"
             ],
             [
              0.7777777777777778,
              "#fb9f3a"
             ],
             [
              0.8888888888888888,
              "#fdca26"
             ],
             [
              1,
              "#f0f921"
             ]
            ],
            "type": "histogram2dcontour"
           }
          ],
          "mesh3d": [
           {
            "colorbar": {
             "outlinewidth": 0,
             "ticks": ""
            },
            "type": "mesh3d"
           }
          ],
          "parcoords": [
           {
            "line": {
             "colorbar": {
              "outlinewidth": 0,
              "ticks": ""
             }
            },
            "type": "parcoords"
           }
          ],
          "pie": [
           {
            "automargin": true,
            "type": "pie"
           }
          ],
          "scatter": [
           {
            "fillpattern": {
             "fillmode": "overlay",
             "size": 10,
             "solidity": 0.2
            },
            "type": "scatter"
           }
          ],
          "scatter3d": [
           {
            "line": {
             "colorbar": {
              "outlinewidth": 0,
              "ticks": ""
             }
            },
            "marker": {
             "colorbar": {
              "outlinewidth": 0,
              "ticks": ""
             }
            },
            "type": "scatter3d"
           }
          ],
          "scattercarpet": [
           {
            "marker": {
             "colorbar": {
              "outlinewidth": 0,
              "ticks": ""
             }
            },
            "type": "scattercarpet"
           }
          ],
          "scattergeo": [
           {
            "marker": {
             "colorbar": {
              "outlinewidth": 0,
              "ticks": ""
             }
            },
            "type": "scattergeo"
           }
          ],
          "scattergl": [
           {
            "marker": {
             "colorbar": {
              "outlinewidth": 0,
              "ticks": ""
             }
            },
            "type": "scattergl"
           }
          ],
          "scattermapbox": [
           {
            "marker": {
             "colorbar": {
              "outlinewidth": 0,
              "ticks": ""
             }
            },
            "type": "scattermapbox"
           }
          ],
          "scatterpolar": [
           {
            "marker": {
             "colorbar": {
              "outlinewidth": 0,
              "ticks": ""
             }
            },
            "type": "scatterpolar"
           }
          ],
          "scatterpolargl": [
           {
            "marker": {
             "colorbar": {
              "outlinewidth": 0,
              "ticks": ""
             }
            },
            "type": "scatterpolargl"
           }
          ],
          "scatterternary": [
           {
            "marker": {
             "colorbar": {
              "outlinewidth": 0,
              "ticks": ""
             }
            },
            "type": "scatterternary"
           }
          ],
          "surface": [
           {
            "colorbar": {
             "outlinewidth": 0,
             "ticks": ""
            },
            "colorscale": [
             [
              0,
              "#0d0887"
             ],
             [
              0.1111111111111111,
              "#46039f"
             ],
             [
              0.2222222222222222,
              "#7201a8"
             ],
             [
              0.3333333333333333,
              "#9c179e"
             ],
             [
              0.4444444444444444,
              "#bd3786"
             ],
             [
              0.5555555555555556,
              "#d8576b"
             ],
             [
              0.6666666666666666,
              "#ed7953"
             ],
             [
              0.7777777777777778,
              "#fb9f3a"
             ],
             [
              0.8888888888888888,
              "#fdca26"
             ],
             [
              1,
              "#f0f921"
             ]
            ],
            "type": "surface"
           }
          ],
          "table": [
           {
            "cells": {
             "fill": {
              "color": "#EBF0F8"
             },
             "line": {
              "color": "white"
             }
            },
            "header": {
             "fill": {
              "color": "#C8D4E3"
             },
             "line": {
              "color": "white"
             }
            },
            "type": "table"
           }
          ]
         },
         "layout": {
          "annotationdefaults": {
           "arrowcolor": "#2a3f5f",
           "arrowhead": 0,
           "arrowwidth": 1
          },
          "autotypenumbers": "strict",
          "coloraxis": {
           "colorbar": {
            "outlinewidth": 0,
            "ticks": ""
           }
          },
          "colorscale": {
           "diverging": [
            [
             0,
             "#8e0152"
            ],
            [
             0.1,
             "#c51b7d"
            ],
            [
             0.2,
             "#de77ae"
            ],
            [
             0.3,
             "#f1b6da"
            ],
            [
             0.4,
             "#fde0ef"
            ],
            [
             0.5,
             "#f7f7f7"
            ],
            [
             0.6,
             "#e6f5d0"
            ],
            [
             0.7,
             "#b8e186"
            ],
            [
             0.8,
             "#7fbc41"
            ],
            [
             0.9,
             "#4d9221"
            ],
            [
             1,
             "#276419"
            ]
           ],
           "sequential": [
            [
             0,
             "#0d0887"
            ],
            [
             0.1111111111111111,
             "#46039f"
            ],
            [
             0.2222222222222222,
             "#7201a8"
            ],
            [
             0.3333333333333333,
             "#9c179e"
            ],
            [
             0.4444444444444444,
             "#bd3786"
            ],
            [
             0.5555555555555556,
             "#d8576b"
            ],
            [
             0.6666666666666666,
             "#ed7953"
            ],
            [
             0.7777777777777778,
             "#fb9f3a"
            ],
            [
             0.8888888888888888,
             "#fdca26"
            ],
            [
             1,
             "#f0f921"
            ]
           ],
           "sequentialminus": [
            [
             0,
             "#0d0887"
            ],
            [
             0.1111111111111111,
             "#46039f"
            ],
            [
             0.2222222222222222,
             "#7201a8"
            ],
            [
             0.3333333333333333,
             "#9c179e"
            ],
            [
             0.4444444444444444,
             "#bd3786"
            ],
            [
             0.5555555555555556,
             "#d8576b"
            ],
            [
             0.6666666666666666,
             "#ed7953"
            ],
            [
             0.7777777777777778,
             "#fb9f3a"
            ],
            [
             0.8888888888888888,
             "#fdca26"
            ],
            [
             1,
             "#f0f921"
            ]
           ]
          },
          "colorway": [
           "#636efa",
           "#EF553B",
           "#00cc96",
           "#ab63fa",
           "#FFA15A",
           "#19d3f3",
           "#FF6692",
           "#B6E880",
           "#FF97FF",
           "#FECB52"
          ],
          "font": {
           "color": "#2a3f5f"
          },
          "geo": {
           "bgcolor": "white",
           "lakecolor": "white",
           "landcolor": "#E5ECF6",
           "showlakes": true,
           "showland": true,
           "subunitcolor": "white"
          },
          "hoverlabel": {
           "align": "left"
          },
          "hovermode": "closest",
          "mapbox": {
           "style": "light"
          },
          "paper_bgcolor": "white",
          "plot_bgcolor": "#E5ECF6",
          "polar": {
           "angularaxis": {
            "gridcolor": "white",
            "linecolor": "white",
            "ticks": ""
           },
           "bgcolor": "#E5ECF6",
           "radialaxis": {
            "gridcolor": "white",
            "linecolor": "white",
            "ticks": ""
           }
          },
          "scene": {
           "xaxis": {
            "backgroundcolor": "#E5ECF6",
            "gridcolor": "white",
            "gridwidth": 2,
            "linecolor": "white",
            "showbackground": true,
            "ticks": "",
            "zerolinecolor": "white"
           },
           "yaxis": {
            "backgroundcolor": "#E5ECF6",
            "gridcolor": "white",
            "gridwidth": 2,
            "linecolor": "white",
            "showbackground": true,
            "ticks": "",
            "zerolinecolor": "white"
           },
           "zaxis": {
            "backgroundcolor": "#E5ECF6",
            "gridcolor": "white",
            "gridwidth": 2,
            "linecolor": "white",
            "showbackground": true,
            "ticks": "",
            "zerolinecolor": "white"
           }
          },
          "shapedefaults": {
           "line": {
            "color": "#2a3f5f"
           }
          },
          "ternary": {
           "aaxis": {
            "gridcolor": "white",
            "linecolor": "white",
            "ticks": ""
           },
           "baxis": {
            "gridcolor": "white",
            "linecolor": "white",
            "ticks": ""
           },
           "bgcolor": "#E5ECF6",
           "caxis": {
            "gridcolor": "white",
            "linecolor": "white",
            "ticks": ""
           }
          },
          "title": {
           "x": 0.05
          },
          "xaxis": {
           "automargin": true,
           "gridcolor": "white",
           "linecolor": "white",
           "ticks": "",
           "title": {
            "standoff": 15
           },
           "zerolinecolor": "white",
           "zerolinewidth": 2
          },
          "yaxis": {
           "automargin": true,
           "gridcolor": "white",
           "linecolor": "white",
           "ticks": "",
           "title": {
            "standoff": 15
           },
           "zerolinecolor": "white",
           "zerolinewidth": 2
          }
         }
        },
        "xaxis": {
         "anchor": "y",
         "constrain": "domain",
         "domain": [
          0,
          1
         ],
         "scaleanchor": "y",
         "title": {
          "text": "Maximum Depth"
         }
        },
        "yaxis": {
         "anchor": "x",
         "autorange": "reversed",
         "constrain": "domain",
         "domain": [
          0,
          1
         ],
         "title": {
          "text": "Test Split Size"
         }
        }
       }
      }
     },
     "metadata": {},
     "output_type": "display_data"
    }
   ],
   "source": [
    "# import matplotlib.pyplot as plt\n",
    "\n",
    "\n",
    "# fig, ax = plt.subplots()\n",
    "\n",
    "# ax.step(score.Depth, score.Train_Accuracy, label = 'Training Accuracy', alpha = .8)\n",
    "# ax.step(score.Depth, score.Test_Accuracy, label = 'Test Accuracy', alpha = .8, linestyle = 'dashed')\n",
    "\n",
    "# ax.set_xlabel('Maximum layer depth')\n",
    "# ax.set_ylabel('Model accuracy')\n",
    "\n",
    "# ax.set_xlim(1,8)\n",
    "# ax.legend()\n",
    "\n",
    "import plotly.express as px\n",
    "\n",
    "train = np.rot90(score[['Train']].values.reshape(20, 9))\n",
    "test = np.rot90(score[['Test']].values.reshape(20, 9))\n",
    "\n",
    "fig = px.imshow(train, labels = {'x':'Maximum Depth', 'y':'Test Split Size', 'color':'Training Accuracy'})#, y=np.linspace(.1,.9,9))\n",
    "fig"
   ]
  },
  {
   "cell_type": "code",
   "execution_count": 124,
   "metadata": {},
   "outputs": [
    {
     "data": {
      "application/vnd.plotly.v1+json": {
       "config": {
        "plotlyServerURL": "https://plot.ly"
       },
       "data": [
        {
         "coloraxis": "coloraxis",
         "hovertemplate": "Maximum Depth: %{x}<br>Test Split Size: %{y}<br>Test Accuracy: %{z}<extra></extra>",
         "name": "0",
         "type": "heatmap",
         "xaxis": "x",
         "yaxis": "y",
         "z": [
          [
           0.8377007607776839,
           0.8275570583262891,
           0.849535080304311,
           0.8258664412510567,
           0.812341504649197,
           0.8140321217244294,
           0.8148774302620456,
           0.8021978021978022,
           0.7954353338968724,
           0.801352493660186,
           0.7996618765849535,
           0.8098055790363483,
           0.760777683854607,
           0.8064243448858833,
           0.7776838546069316,
           0.8072696534234995,
           0.790363482671175,
           0.797971259509721,
           0.7709213863060017,
           0.7844463229078613
          ],
          [
           0.8317490494296578,
           0.8431558935361216,
           0.8279467680608364,
           0.8326996197718631,
           0.8241444866920152,
           0.8003802281368821,
           0.8070342205323194,
           0.8098859315589354,
           0.8003802281368821,
           0.7519011406844106,
           0.7975285171102662,
           0.80893536121673,
           0.8222433460076045,
           0.8003802281368821,
           0.7813688212927756,
           0.7889733840304183,
           0.7585551330798479,
           0.7338403041825095,
           0.7937262357414449,
           0.7661596958174905
          ],
          [
           0.8032608695652174,
           0.8478260869565217,
           0.8304347826086956,
           0.8282608695652174,
           0.8521739130434782,
           0.8358695652173913,
           0.8195652173913044,
           0.8043478260869565,
           0.8032608695652174,
           0.8097826086956522,
           0.8054347826086956,
           0.8021739130434783,
           0.7880434782608695,
           0.8043478260869565,
           0.7967391304347826,
           0.8228260869565217,
           0.8,
           0.7945652173913044,
           0.8217391304347826,
           0.8217391304347826
          ],
          [
           0.8428390367553865,
           0.8301647655259823,
           0.8415716096324461,
           0.826362484157161,
           0.7997465145754119,
           0.8314321926489227,
           0.8288973384030418,
           0.7896070975918885,
           0.8048162230671736,
           0.8149556400506971,
           0.844106463878327,
           0.8010139416983524,
           0.8162230671736375,
           0.7972116603295311,
           0.8162230671736375,
           0.8314321926489227,
           0.8060836501901141,
           0.8136882129277566,
           0.7934093789607097,
           0.8162230671736375
          ],
          [
           0.8599695585996956,
           0.852359208523592,
           0.8264840182648402,
           0.8356164383561644,
           0.8508371385083714,
           0.8599695585996956,
           0.8203957382039574,
           0.8356164383561644,
           0.8158295281582952,
           0.8295281582952816,
           0.8280060882800608,
           0.8234398782343988,
           0.8036529680365296,
           0.8036529680365296,
           0.7747336377473364,
           0.7975646879756468,
           0.8051750380517504,
           0.8401826484018264,
           0.8143074581430746,
           0.8417047184170472
          ],
          [
           0.8269961977186312,
           0.8365019011406845,
           0.8593155893536122,
           0.8288973384030418,
           0.8422053231939164,
           0.8517110266159695,
           0.8326996197718631,
           0.8231939163498099,
           0.8174904942965779,
           0.8326996197718631,
           0.8498098859315589,
           0.8269961977186312,
           0.8250950570342205,
           0.8098859315589354,
           0.8346007604562737,
           0.8288973384030418,
           0.8041825095057035,
           0.8460076045627376,
           0.8231939163498099,
           0.8346007604562737
          ],
          [
           0.850632911392405,
           0.8658227848101265,
           0.8329113924050633,
           0.8607594936708861,
           0.850632911392405,
           0.810126582278481,
           0.8253164556962025,
           0.8050632911392405,
           0.8202531645569621,
           0.8126582278481013,
           0.8556962025316456,
           0.8329113924050633,
           0.830379746835443,
           0.8202531645569621,
           0.7974683544303798,
           0.8050632911392405,
           0.8177215189873418,
           0.8151898734177215,
           0.8329113924050633,
           0.8329113924050633
          ],
          [
           0.8288973384030418,
           0.8517110266159695,
           0.870722433460076,
           0.8479087452471483,
           0.8288973384030418,
           0.8517110266159695,
           0.844106463878327,
           0.7984790874524715,
           0.7946768060836502,
           0.7946768060836502,
           0.8479087452471483,
           0.8669201520912547,
           0.8403041825095057,
           0.8288973384030418,
           0.8060836501901141,
           0.8326996197718631,
           0.8326996197718631,
           0.8326996197718631,
           0.8326996197718631,
           0.8403041825095057
          ],
          [
           0.8636363636363636,
           0.8333333333333334,
           0.8257575757575758,
           0.8333333333333334,
           0.8939393939393939,
           0.7803030303030303,
           0.8333333333333334,
           0.8939393939393939,
           0.8636363636363636,
           0.8181818181818182,
           0.8712121212121212,
           0.8712121212121212,
           0.8333333333333334,
           0.8409090909090909,
           0.8560606060606061,
           0.8333333333333334,
           0.8333333333333334,
           0.8333333333333334,
           0.8409090909090909,
           0.8409090909090909
          ]
         ]
        }
       ],
       "layout": {
        "coloraxis": {
         "colorbar": {
          "title": {
           "text": "Test Accuracy"
          }
         },
         "colorscale": [
          [
           0,
           "#0d0887"
          ],
          [
           0.1111111111111111,
           "#46039f"
          ],
          [
           0.2222222222222222,
           "#7201a8"
          ],
          [
           0.3333333333333333,
           "#9c179e"
          ],
          [
           0.4444444444444444,
           "#bd3786"
          ],
          [
           0.5555555555555556,
           "#d8576b"
          ],
          [
           0.6666666666666666,
           "#ed7953"
          ],
          [
           0.7777777777777778,
           "#fb9f3a"
          ],
          [
           0.8888888888888888,
           "#fdca26"
          ],
          [
           1,
           "#f0f921"
          ]
         ]
        },
        "margin": {
         "t": 60
        },
        "template": {
         "data": {
          "bar": [
           {
            "error_x": {
             "color": "#2a3f5f"
            },
            "error_y": {
             "color": "#2a3f5f"
            },
            "marker": {
             "line": {
              "color": "#E5ECF6",
              "width": 0.5
             },
             "pattern": {
              "fillmode": "overlay",
              "size": 10,
              "solidity": 0.2
             }
            },
            "type": "bar"
           }
          ],
          "barpolar": [
           {
            "marker": {
             "line": {
              "color": "#E5ECF6",
              "width": 0.5
             },
             "pattern": {
              "fillmode": "overlay",
              "size": 10,
              "solidity": 0.2
             }
            },
            "type": "barpolar"
           }
          ],
          "carpet": [
           {
            "aaxis": {
             "endlinecolor": "#2a3f5f",
             "gridcolor": "white",
             "linecolor": "white",
             "minorgridcolor": "white",
             "startlinecolor": "#2a3f5f"
            },
            "baxis": {
             "endlinecolor": "#2a3f5f",
             "gridcolor": "white",
             "linecolor": "white",
             "minorgridcolor": "white",
             "startlinecolor": "#2a3f5f"
            },
            "type": "carpet"
           }
          ],
          "choropleth": [
           {
            "colorbar": {
             "outlinewidth": 0,
             "ticks": ""
            },
            "type": "choropleth"
           }
          ],
          "contour": [
           {
            "colorbar": {
             "outlinewidth": 0,
             "ticks": ""
            },
            "colorscale": [
             [
              0,
              "#0d0887"
             ],
             [
              0.1111111111111111,
              "#46039f"
             ],
             [
              0.2222222222222222,
              "#7201a8"
             ],
             [
              0.3333333333333333,
              "#9c179e"
             ],
             [
              0.4444444444444444,
              "#bd3786"
             ],
             [
              0.5555555555555556,
              "#d8576b"
             ],
             [
              0.6666666666666666,
              "#ed7953"
             ],
             [
              0.7777777777777778,
              "#fb9f3a"
             ],
             [
              0.8888888888888888,
              "#fdca26"
             ],
             [
              1,
              "#f0f921"
             ]
            ],
            "type": "contour"
           }
          ],
          "contourcarpet": [
           {
            "colorbar": {
             "outlinewidth": 0,
             "ticks": ""
            },
            "type": "contourcarpet"
           }
          ],
          "heatmap": [
           {
            "colorbar": {
             "outlinewidth": 0,
             "ticks": ""
            },
            "colorscale": [
             [
              0,
              "#0d0887"
             ],
             [
              0.1111111111111111,
              "#46039f"
             ],
             [
              0.2222222222222222,
              "#7201a8"
             ],
             [
              0.3333333333333333,
              "#9c179e"
             ],
             [
              0.4444444444444444,
              "#bd3786"
             ],
             [
              0.5555555555555556,
              "#d8576b"
             ],
             [
              0.6666666666666666,
              "#ed7953"
             ],
             [
              0.7777777777777778,
              "#fb9f3a"
             ],
             [
              0.8888888888888888,
              "#fdca26"
             ],
             [
              1,
              "#f0f921"
             ]
            ],
            "type": "heatmap"
           }
          ],
          "heatmapgl": [
           {
            "colorbar": {
             "outlinewidth": 0,
             "ticks": ""
            },
            "colorscale": [
             [
              0,
              "#0d0887"
             ],
             [
              0.1111111111111111,
              "#46039f"
             ],
             [
              0.2222222222222222,
              "#7201a8"
             ],
             [
              0.3333333333333333,
              "#9c179e"
             ],
             [
              0.4444444444444444,
              "#bd3786"
             ],
             [
              0.5555555555555556,
              "#d8576b"
             ],
             [
              0.6666666666666666,
              "#ed7953"
             ],
             [
              0.7777777777777778,
              "#fb9f3a"
             ],
             [
              0.8888888888888888,
              "#fdca26"
             ],
             [
              1,
              "#f0f921"
             ]
            ],
            "type": "heatmapgl"
           }
          ],
          "histogram": [
           {
            "marker": {
             "pattern": {
              "fillmode": "overlay",
              "size": 10,
              "solidity": 0.2
             }
            },
            "type": "histogram"
           }
          ],
          "histogram2d": [
           {
            "colorbar": {
             "outlinewidth": 0,
             "ticks": ""
            },
            "colorscale": [
             [
              0,
              "#0d0887"
             ],
             [
              0.1111111111111111,
              "#46039f"
             ],
             [
              0.2222222222222222,
              "#7201a8"
             ],
             [
              0.3333333333333333,
              "#9c179e"
             ],
             [
              0.4444444444444444,
              "#bd3786"
             ],
             [
              0.5555555555555556,
              "#d8576b"
             ],
             [
              0.6666666666666666,
              "#ed7953"
             ],
             [
              0.7777777777777778,
              "#fb9f3a"
             ],
             [
              0.8888888888888888,
              "#fdca26"
             ],
             [
              1,
              "#f0f921"
             ]
            ],
            "type": "histogram2d"
           }
          ],
          "histogram2dcontour": [
           {
            "colorbar": {
             "outlinewidth": 0,
             "ticks": ""
            },
            "colorscale": [
             [
              0,
              "#0d0887"
             ],
             [
              0.1111111111111111,
              "#46039f"
             ],
             [
              0.2222222222222222,
              "#7201a8"
             ],
             [
              0.3333333333333333,
              "#9c179e"
             ],
             [
              0.4444444444444444,
              "#bd3786"
             ],
             [
              0.5555555555555556,
              "#d8576b"
             ],
             [
              0.6666666666666666,
              "#ed7953"
             ],
             [
              0.7777777777777778,
              "#fb9f3a"
             ],
             [
              0.8888888888888888,
              "#fdca26"
             ],
             [
              1,
              "#f0f921"
             ]
            ],
            "type": "histogram2dcontour"
           }
          ],
          "mesh3d": [
           {
            "colorbar": {
             "outlinewidth": 0,
             "ticks": ""
            },
            "type": "mesh3d"
           }
          ],
          "parcoords": [
           {
            "line": {
             "colorbar": {
              "outlinewidth": 0,
              "ticks": ""
             }
            },
            "type": "parcoords"
           }
          ],
          "pie": [
           {
            "automargin": true,
            "type": "pie"
           }
          ],
          "scatter": [
           {
            "fillpattern": {
             "fillmode": "overlay",
             "size": 10,
             "solidity": 0.2
            },
            "type": "scatter"
           }
          ],
          "scatter3d": [
           {
            "line": {
             "colorbar": {
              "outlinewidth": 0,
              "ticks": ""
             }
            },
            "marker": {
             "colorbar": {
              "outlinewidth": 0,
              "ticks": ""
             }
            },
            "type": "scatter3d"
           }
          ],
          "scattercarpet": [
           {
            "marker": {
             "colorbar": {
              "outlinewidth": 0,
              "ticks": ""
             }
            },
            "type": "scattercarpet"
           }
          ],
          "scattergeo": [
           {
            "marker": {
             "colorbar": {
              "outlinewidth": 0,
              "ticks": ""
             }
            },
            "type": "scattergeo"
           }
          ],
          "scattergl": [
           {
            "marker": {
             "colorbar": {
              "outlinewidth": 0,
              "ticks": ""
             }
            },
            "type": "scattergl"
           }
          ],
          "scattermapbox": [
           {
            "marker": {
             "colorbar": {
              "outlinewidth": 0,
              "ticks": ""
             }
            },
            "type": "scattermapbox"
           }
          ],
          "scatterpolar": [
           {
            "marker": {
             "colorbar": {
              "outlinewidth": 0,
              "ticks": ""
             }
            },
            "type": "scatterpolar"
           }
          ],
          "scatterpolargl": [
           {
            "marker": {
             "colorbar": {
              "outlinewidth": 0,
              "ticks": ""
             }
            },
            "type": "scatterpolargl"
           }
          ],
          "scatterternary": [
           {
            "marker": {
             "colorbar": {
              "outlinewidth": 0,
              "ticks": ""
             }
            },
            "type": "scatterternary"
           }
          ],
          "surface": [
           {
            "colorbar": {
             "outlinewidth": 0,
             "ticks": ""
            },
            "colorscale": [
             [
              0,
              "#0d0887"
             ],
             [
              0.1111111111111111,
              "#46039f"
             ],
             [
              0.2222222222222222,
              "#7201a8"
             ],
             [
              0.3333333333333333,
              "#9c179e"
             ],
             [
              0.4444444444444444,
              "#bd3786"
             ],
             [
              0.5555555555555556,
              "#d8576b"
             ],
             [
              0.6666666666666666,
              "#ed7953"
             ],
             [
              0.7777777777777778,
              "#fb9f3a"
             ],
             [
              0.8888888888888888,
              "#fdca26"
             ],
             [
              1,
              "#f0f921"
             ]
            ],
            "type": "surface"
           }
          ],
          "table": [
           {
            "cells": {
             "fill": {
              "color": "#EBF0F8"
             },
             "line": {
              "color": "white"
             }
            },
            "header": {
             "fill": {
              "color": "#C8D4E3"
             },
             "line": {
              "color": "white"
             }
            },
            "type": "table"
           }
          ]
         },
         "layout": {
          "annotationdefaults": {
           "arrowcolor": "#2a3f5f",
           "arrowhead": 0,
           "arrowwidth": 1
          },
          "autotypenumbers": "strict",
          "coloraxis": {
           "colorbar": {
            "outlinewidth": 0,
            "ticks": ""
           }
          },
          "colorscale": {
           "diverging": [
            [
             0,
             "#8e0152"
            ],
            [
             0.1,
             "#c51b7d"
            ],
            [
             0.2,
             "#de77ae"
            ],
            [
             0.3,
             "#f1b6da"
            ],
            [
             0.4,
             "#fde0ef"
            ],
            [
             0.5,
             "#f7f7f7"
            ],
            [
             0.6,
             "#e6f5d0"
            ],
            [
             0.7,
             "#b8e186"
            ],
            [
             0.8,
             "#7fbc41"
            ],
            [
             0.9,
             "#4d9221"
            ],
            [
             1,
             "#276419"
            ]
           ],
           "sequential": [
            [
             0,
             "#0d0887"
            ],
            [
             0.1111111111111111,
             "#46039f"
            ],
            [
             0.2222222222222222,
             "#7201a8"
            ],
            [
             0.3333333333333333,
             "#9c179e"
            ],
            [
             0.4444444444444444,
             "#bd3786"
            ],
            [
             0.5555555555555556,
             "#d8576b"
            ],
            [
             0.6666666666666666,
             "#ed7953"
            ],
            [
             0.7777777777777778,
             "#fb9f3a"
            ],
            [
             0.8888888888888888,
             "#fdca26"
            ],
            [
             1,
             "#f0f921"
            ]
           ],
           "sequentialminus": [
            [
             0,
             "#0d0887"
            ],
            [
             0.1111111111111111,
             "#46039f"
            ],
            [
             0.2222222222222222,
             "#7201a8"
            ],
            [
             0.3333333333333333,
             "#9c179e"
            ],
            [
             0.4444444444444444,
             "#bd3786"
            ],
            [
             0.5555555555555556,
             "#d8576b"
            ],
            [
             0.6666666666666666,
             "#ed7953"
            ],
            [
             0.7777777777777778,
             "#fb9f3a"
            ],
            [
             0.8888888888888888,
             "#fdca26"
            ],
            [
             1,
             "#f0f921"
            ]
           ]
          },
          "colorway": [
           "#636efa",
           "#EF553B",
           "#00cc96",
           "#ab63fa",
           "#FFA15A",
           "#19d3f3",
           "#FF6692",
           "#B6E880",
           "#FF97FF",
           "#FECB52"
          ],
          "font": {
           "color": "#2a3f5f"
          },
          "geo": {
           "bgcolor": "white",
           "lakecolor": "white",
           "landcolor": "#E5ECF6",
           "showlakes": true,
           "showland": true,
           "subunitcolor": "white"
          },
          "hoverlabel": {
           "align": "left"
          },
          "hovermode": "closest",
          "mapbox": {
           "style": "light"
          },
          "paper_bgcolor": "white",
          "plot_bgcolor": "#E5ECF6",
          "polar": {
           "angularaxis": {
            "gridcolor": "white",
            "linecolor": "white",
            "ticks": ""
           },
           "bgcolor": "#E5ECF6",
           "radialaxis": {
            "gridcolor": "white",
            "linecolor": "white",
            "ticks": ""
           }
          },
          "scene": {
           "xaxis": {
            "backgroundcolor": "#E5ECF6",
            "gridcolor": "white",
            "gridwidth": 2,
            "linecolor": "white",
            "showbackground": true,
            "ticks": "",
            "zerolinecolor": "white"
           },
           "yaxis": {
            "backgroundcolor": "#E5ECF6",
            "gridcolor": "white",
            "gridwidth": 2,
            "linecolor": "white",
            "showbackground": true,
            "ticks": "",
            "zerolinecolor": "white"
           },
           "zaxis": {
            "backgroundcolor": "#E5ECF6",
            "gridcolor": "white",
            "gridwidth": 2,
            "linecolor": "white",
            "showbackground": true,
            "ticks": "",
            "zerolinecolor": "white"
           }
          },
          "shapedefaults": {
           "line": {
            "color": "#2a3f5f"
           }
          },
          "ternary": {
           "aaxis": {
            "gridcolor": "white",
            "linecolor": "white",
            "ticks": ""
           },
           "baxis": {
            "gridcolor": "white",
            "linecolor": "white",
            "ticks": ""
           },
           "bgcolor": "#E5ECF6",
           "caxis": {
            "gridcolor": "white",
            "linecolor": "white",
            "ticks": ""
           }
          },
          "title": {
           "x": 0.05
          },
          "xaxis": {
           "automargin": true,
           "gridcolor": "white",
           "linecolor": "white",
           "ticks": "",
           "title": {
            "standoff": 15
           },
           "zerolinecolor": "white",
           "zerolinewidth": 2
          },
          "yaxis": {
           "automargin": true,
           "gridcolor": "white",
           "linecolor": "white",
           "ticks": "",
           "title": {
            "standoff": 15
           },
           "zerolinecolor": "white",
           "zerolinewidth": 2
          }
         }
        },
        "xaxis": {
         "anchor": "y",
         "constrain": "domain",
         "domain": [
          0,
          1
         ],
         "scaleanchor": "y",
         "title": {
          "text": "Maximum Depth"
         }
        },
        "yaxis": {
         "anchor": "x",
         "autorange": "reversed",
         "constrain": "domain",
         "domain": [
          0,
          1
         ],
         "title": {
          "text": "Test Split Size"
         }
        }
       }
      }
     },
     "metadata": {},
     "output_type": "display_data"
    }
   ],
   "source": [
    "fig = px.imshow(test, labels = {'x':'Maximum Depth', 'y':'Test Split Size', 'color':'Test Accuracy'})\n",
    "fig"
   ]
  },
  {
   "cell_type": "code",
   "execution_count": 120,
   "metadata": {},
   "outputs": [
    {
     "data": {
      "text/plain": [
       "array([[0.85109983, 0.85823026, 0.8531012 , 0.86928934, 0.84474886,\n",
       "        0.86666667, 0.83502538, 0.84732824, 0.90076336],\n",
       "       [0.85448393, 0.85252141, 0.84657236, 0.86294416, 0.85235921,\n",
       "        0.84190476, 0.86294416, 0.83206107, 0.90076336],\n",
       "       [0.85532995, 0.84776403, 0.8476605 , 0.84517766, 0.86605784,\n",
       "        0.86857143, 0.85279188, 0.88167939, 0.84732824],\n",
       "       [0.85532995, 0.85252141, 0.84874864, 0.86675127, 0.85083714,\n",
       "        0.84952381, 0.86294416, 0.87022901, 0.87022901],\n",
       "       [0.84856176, 0.86584206, 0.86071817, 0.86040609, 0.86453577,\n",
       "        0.89333333, 0.86294416, 0.88549618, 0.90076336],\n",
       "       [0.86548223, 0.86203616, 0.8781284 , 0.86167513, 0.85388128,\n",
       "        0.87428571, 0.86548223, 0.88549618, 0.9389313 ],\n",
       "       [0.86125212, 0.86298763, 0.86833515, 0.8642132 , 0.85996956,\n",
       "        0.88190476, 0.86294416, 0.90076336, 0.92366412],\n",
       "       [0.85532995, 0.86489058, 0.88139282, 0.86294416, 0.87062405,\n",
       "        0.87809524, 0.88832487, 0.92366412, 0.93129771],\n",
       "       [0.85871404, 0.86964795, 0.86180631, 0.86928934, 0.87366819,\n",
       "        0.87238095, 0.88832487, 0.92366412, 0.88549618],\n",
       "       [0.86040609, 0.86869648, 0.86507073, 0.8680203 , 0.87062405,\n",
       "        0.87238095, 0.89340102, 0.88549618, 0.95419847],\n",
       "       [0.85956007, 0.86108468, 0.85963003, 0.85532995, 0.85540335,\n",
       "        0.85714286, 0.86294416, 0.91603053, 0.9389313 ],\n",
       "       [0.85786802, 0.85537583, 0.85963003, 0.87436548, 0.88432268,\n",
       "        0.88761905, 0.87563452, 0.94656489, 0.91603053],\n",
       "       [0.86209814, 0.86203616, 0.85963003, 0.86548223, 0.87062405,\n",
       "        0.86666667, 0.90101523, 0.90076336, 0.89312977],\n",
       "       [0.86294416, 0.86584206, 0.87051143, 0.8642132 , 0.88584475,\n",
       "        0.88952381, 0.88832487, 0.88549618, 0.96946565],\n",
       "       [0.85871404, 0.86964795, 0.87486398, 0.85786802, 0.87214612,\n",
       "        0.87047619, 0.88832487, 0.91984733, 0.93129771],\n",
       "       [0.86294416, 0.86393911, 0.87704026, 0.87055838, 0.87671233,\n",
       "        0.87238095, 0.9035533 , 0.87022901, 0.96183206],\n",
       "       [0.86294416, 0.867745  , 0.87159956, 0.8680203 , 0.88280061,\n",
       "        0.89904762, 0.8857868 , 0.86259542, 0.96183206],\n",
       "       [0.86379019, 0.85918173, 0.87159956, 0.86294416, 0.87062405,\n",
       "        0.86857143, 0.88832487, 0.88931298, 0.9389313 ],\n",
       "       [0.86125212, 0.86298763, 0.86615887, 0.87309645, 0.8630137 ,\n",
       "        0.86095238, 0.87817259, 0.8778626 , 0.9389313 ],\n",
       "       [0.86209814, 0.86203616, 0.86398259, 0.86294416, 0.86605784,\n",
       "        0.87428571, 0.90609137, 0.90458015, 0.93129771]])"
      ]
     },
     "execution_count": 120,
     "metadata": {},
     "output_type": "execute_result"
    }
   ],
   "source": []
  },
  {
   "cell_type": "code",
   "execution_count": null,
   "metadata": {},
   "outputs": [],
   "source": []
  }
 ],
 "metadata": {
  "kernelspec": {
   "display_name": "Python 3",
   "language": "python",
   "name": "python3"
  },
  "language_info": {
   "codemirror_mode": {
    "name": "ipython",
    "version": 3
   },
   "file_extension": ".py",
   "mimetype": "text/x-python",
   "name": "python",
   "nbconvert_exporter": "python",
   "pygments_lexer": "ipython3",
   "version": "3.7.12"
  },
  "vscode": {
   "interpreter": {
    "hash": "6a8928d6b6a07e0ed465d32f5bf5af9b2ab2f88849a9b2672ccc4b697fae7c51"
   }
  }
 },
 "nbformat": 4,
 "nbformat_minor": 4
}
