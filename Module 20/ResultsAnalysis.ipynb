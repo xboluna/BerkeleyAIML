{
 "cells": [
  {
   "cell_type": "code",
   "execution_count": 1,
   "metadata": {},
   "outputs": [],
   "source": [
    "import pandas as pd\n",
    "import matplotlib.pyplot as plt"
   ]
  },
  {
   "attachments": {},
   "cell_type": "markdown",
   "metadata": {},
   "source": [
    "#### Details of methodology\n",
    "\n",
    "The dataset is passed to the dataloader as an array of filepaths. The labels are simply strings mapped to corresponding values.\n",
    "\n",
    "run_fitting.py: ```\n",
    "LABELS = {\n",
    "            'neutral': 0,\n",
    "            'somewhat NSFW': 1,\n",
    "            'NSFW': 2\n",
    "            }\n",
    "            ```\n",
    "\n",
    "In order to reduce the amount of data loaded into memory at a time, we allow the DataSet object to load images whenever the DataLoader calls them. This decreases the speed for each batch in SGD, however my system cannot load all of the images at one time. Images are therefore loaded whenever their indices are named instead of being loaded \"eagerly\" at the dataset instantiation.\n",
    "\n",
    "Infrastructure.py:\n",
    "```\n",
    "def __getitem__(self, index:int) -> Tuple[torch.Tensor, str]:\n",
    "        img = Image.open(self.X[index]).convert('RGB')\n",
    "        return self.transform(img), self.y[index]\n",
    "```\n",
    "\n",
    "We then also split the data into Training, Test and Validation. \"Validation\" confirms the dataset accuracy at the end of fitting. The \"Test\" dataset is used to approximate loss at each epoch interval. Its size is intentionally made small since we need only to quickly calculate loss in order to tune the number of epochs. To this end, the model weights are only saved when validation at current epoch < minimum validation so far.\n",
    "\n",
    "run_fitting.py:\n",
    "```\n",
    "X_train, X_test, y_train, y_test = train_test_split( X, y, test_size = TEST_SIZE )\n",
    "X_test, X_val, y_test, y_val = train_test_split(X,y, test_size = 0.3)\n",
    "```\n",
    "\n",
    "We chose to use simple Cross Entropy Loss and the Adam optimizer to train a single classification per image and make use of our \"smaller\" dataset.\n",
    "\n",
    "The neural net is then run for at least 20 epochs. Below are the results."
   ]
  },
  {
   "cell_type": "code",
   "execution_count": 2,
   "metadata": {},
   "outputs": [],
   "source": [
    "trends = pd.read_csv('./Scoring.txt')"
   ]
  },
  {
   "cell_type": "code",
   "execution_count": 3,
   "metadata": {},
   "outputs": [
    {
     "data": {
      "image/png": "[encoded data removed]",
      "text/plain": [
       "<Figure size 640x480 with 1 Axes>"
      ]
     },
     "metadata": {},
     "output_type": "display_data"
    }
   ],
   "source": [
    "fig, ax = plt.subplots()\n",
    "\n",
    "ax.plot(trends['Epoch'], trends[' Train Loss'], label = 'Training loss')\n",
    "ax.plot(trends['Epoch'], trends[' Val Loss'], label = 'Validation loss')\n",
    "ax.scatter(trends['Epoch'], trends[' Train Loss'], marker='o', zorder = 1)\n",
    "ax.scatter(trends['Epoch'], trends[' Val Loss'], marker='o', zorder = 1)\n",
    "\n",
    "ax.set_yscale('log')\n",
    "\n",
    "ax.set_xlabel('Epoch')\n",
    "ax.set_ylabel('Cross Entropy Loss')\n",
    "ax.legend()\n",
    "\n",
    "fig.savefig('ModelFitting.png')"
   ]
  },
  {
   "attachments": {},
   "cell_type": "markdown",
   "metadata": {},
   "source": [
    "As is evident, the loss continues to decrease with the number of epochs. This process is quite slow on my system and will take quite some time to fine-tune. Subsequent steps when this process is complete are the following:\n",
    "\n",
    "- Calculation of a confusion matrix. This will allow us to determine the number of false negatives -- the metric we want to minimize most.\n",
    "- Though we softmax our prediction vector when calculating loss, we can test the activation of the other output nodes with different sample images, to test the viability of using a threshold in the \"somewhat NSFW\" node to identify difficult-to-classify content.\n",
    "\n",
    "We can preliminarily test this with a subset of the data:"
   ]
  },
  {
   "cell_type": "code",
   "execution_count": 6,
   "metadata": {},
   "outputs": [],
   "source": [
    "import torch\n",
    "from torch.utils.data import DataLoader\n",
    "from Infrastructure import CaptchaDataset, ResNetWrapper\n",
    "from pathlib import Path\n",
    "from sklearn.model_selection import train_test_split\n",
    "\n",
    "import logging\n",
    "logging.basicConfig(level=logging.INFO)"
   ]
  },
  {
   "cell_type": "code",
   "execution_count": 7,
   "metadata": {},
   "outputs": [
    {
     "name": "stderr",
     "output_type": "stream",
     "text": [
      "DEBUG:PIL.TiffImagePlugin:tag: ExifIFD (34665) - type: long (4) - value: b'\\x00\\x00\\x00\\x1a'\n",
      "DEBUG:PIL.TiffImagePlugin:tag: ExifIFD (34665) - type: long (4) - value: b'\\x00\\x00\\x00\\x1a'\n",
      "DEBUG:PIL.TiffImagePlugin:tag: ExifIFD (34665) - type: long (4) - value: b'\\x00\\x00\\x00\\x1a'\n",
      "DEBUG:PIL.TiffImagePlugin:tag: Orientation (274) - type: short (3) - value: b'\\x00\\x01'\n",
      "DEBUG:PIL.TiffImagePlugin:tag: ExifIFD (34665) - type: long (4) - value: b'\\x00\\x00\\x00&'\n"
     ]
    }
   ],
   "source": [
    "LABELS = {\n",
    "            'neutral': 0,\n",
    "            'sexy': 1,\n",
    "            'porn': 2\n",
    "            }\n",
    "\n",
    "\n",
    "DATA_DIR = './datascraper/data/train/'\n",
    "\n",
    "directories = {\n",
    "            'neutral': '%s/neutral/'%DATA_DIR,\n",
    "            'sexy': '%s/sexy/'%DATA_DIR,\n",
    "            'porn': '%s/porn/'%DATA_DIR,\n",
    "            }\n",
    "\n",
    "\n",
    "for label in directories:\n",
    "\n",
    "    # Collect the files\n",
    "    file_locations = [ img for img in Path(directories[label]).glob('*') ]\n",
    "\n",
    "    # Just reassign directories vals to the glob\n",
    "    directories[label] = file_locations\n",
    "\n",
    "\n",
    "X = [ img for img in directories[label] for label in directories]\n",
    "y = [ encode for encode in [LABELS[label]]*len(directories[label]) for label in directories ]\n",
    "\n",
    "X_train, X_test, y_train, y_test = train_test_split( X, y, test_size = 1e-1)\n",
    "\n",
    "# I accidentally forgot to rename this CaptchaDataset class & it's too late now -> \"tech debt\"\n",
    "dataloader = DataLoader(CaptchaDataset(X_test,y_test), \n",
    "    64, shuffle=True, num_workers = 4)\n",
    "\n",
    "net = ResNetWrapper()\n",
    "statedict = torch.load('./ResNetWrapper_weights.pth', map_location = torch.device('cpu'))\n",
    "# Honestly not sure why saving from outside wrapper changes the odict names\n",
    "net.load_state_dict( { 'network.%s'%key : statedict[key] for key in statedict } \n",
    "    )\n",
    "\n",
    "net.validate(dataloader)"
   ]
  },
  {
   "cell_type": "code",
   "execution_count": null,
   "metadata": {},
   "outputs": [],
   "source": []
  }
 ],
 "metadata": {
  "kernelspec": {
   "display_name": "threeML",
   "language": "python",
   "name": "python3"
  },
  "language_info": {
   "codemirror_mode": {
    "name": "ipython",
    "version": 3
   },
   "file_extension": ".py",
   "mimetype": "text/x-python",
   "name": "python",
   "nbconvert_exporter": "python",
   "pygments_lexer": "ipython3",
   "version": "3.7.12"
  },
  "orig_nbformat": 4,
  "vscode": {
   "interpreter": {
    "hash": "6a8928d6b6a07e0ed465d32f5bf5af9b2ab2f88849a9b2672ccc4b697fae7c51"
   }
  }
 },
 "nbformat": 4,
 "nbformat_minor": 2
}
