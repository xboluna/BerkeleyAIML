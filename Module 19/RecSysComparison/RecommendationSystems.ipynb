{
 "cells": [
  {
   "cell_type": "markdown",
   "metadata": {},
   "source": [
    "### Building a Recommender system with Surprise\n",
    "\n",
    "This try-it focuses on exploring additional algorithms with the `Suprise` library to generate recommendations.  Your goal is to identify the optimal algorithm by minimizing the mean squared error using cross validation. You are also going to select a dataset to use from [grouplens](https://grouplens.org/datasets/movielens/) example datasets.  \n",
    "\n",
    "To begin, head over to grouplens and examine the different datasets available.  Choose one so that it is easy to create the data as expected in `Surprise` with user, item, and rating information.  Then, compare the performance of at least the `KNNBasic`, `SVD`, `NMF`, `SlopeOne`, and `CoClustering` algorithms to build your recommendations.  For more information on the algorithms see the documentation for the algorithm package [here](https://surprise.readthedocs.io/en/stable/prediction_algorithms_package.html).\n",
    "\n",
    "Share the results of your investigation and include the results of your cross validation and a basic description of your dataset with your peers.\n",
    "\n"
   ]
  },
  {
   "cell_type": "code",
   "execution_count": 10,
   "metadata": {},
   "outputs": [],
   "source": [
    "from surprise import Dataset, SVD, SVDpp, NMF, KNNBasic, KNNWithMeans, KNNWithZScore, SlopeOne, CoClustering, BaselineOnly, NormalPredictor\n",
    "from surprise.model_selection import cross_validate\n",
    "import pandas as pd"
   ]
  },
  {
   "cell_type": "code",
   "execution_count": 2,
   "metadata": {},
   "outputs": [
    {
     "name": "stdout",
     "output_type": "stream",
     "text": [
      "Evaluating RMSE, MAE of algorithm SVD on 5 split(s).\n",
      "\n",
      "                  Fold 1  Fold 2  Fold 3  Fold 4  Fold 5  Mean    Std     \n",
      "RMSE (testset)    0.9346  0.9384  0.9362  0.9410  0.9366  0.9373  0.0022  \n",
      "MAE (testset)     0.7358  0.7398  0.7357  0.7419  0.7375  0.7381  0.0024  \n",
      "Fit time          10.14   4.73    3.32    3.78    4.07    5.21    2.51    \n",
      "Test time         0.90    0.67    0.87    0.75    0.75    0.79    0.08    \n",
      "Evaluating RMSE, MAE of algorithm SVDpp on 5 split(s).\n",
      "\n",
      "                  Fold 1  Fold 2  Fold 3  Fold 4  Fold 5  Mean    Std     \n",
      "RMSE (testset)    0.9227  0.9142  0.9143  0.9224  0.9113  0.9170  0.0047  \n",
      "MAE (testset)     0.7222  0.7176  0.7184  0.7217  0.7153  0.7190  0.0026  \n",
      "Fit time          97.41   46.83   46.75   47.95   47.65   57.32   20.05   \n",
      "Test time         10.38   8.71    10.10   10.15   8.64    9.59    0.76    \n",
      "Evaluating RMSE, MAE of algorithm NMF on 5 split(s).\n",
      "\n",
      "                  Fold 1  Fold 2  Fold 3  Fold 4  Fold 5  Mean    Std     \n",
      "RMSE (testset)    0.9498  0.9593  0.9639  0.9772  0.9634  0.9627  0.0088  \n",
      "MAE (testset)     0.7463  0.7540  0.7581  0.7682  0.7577  0.7568  0.0071  \n",
      "Fit time          4.99    8.07    5.62    3.82    4.57    5.42    1.45    \n",
      "Test time         0.64    0.54    0.36    0.39    0.35    0.46    0.12    \n",
      "Computing the msd similarity matrix...\n",
      "Done computing similarity matrix.\n",
      "Computing the msd similarity matrix...\n",
      "Done computing similarity matrix.\n",
      "Computing the msd similarity matrix...\n",
      "Done computing similarity matrix.\n",
      "Computing the msd similarity matrix...\n",
      "Done computing similarity matrix.\n",
      "Computing the msd similarity matrix...\n",
      "Done computing similarity matrix.\n",
      "Evaluating RMSE, MAE of algorithm KNNBasic on 5 split(s).\n",
      "\n",
      "                  Fold 1  Fold 2  Fold 3  Fold 4  Fold 5  Mean    Std     \n",
      "RMSE (testset)    0.9835  0.9716  0.9803  0.9777  0.9868  0.9800  0.0052  \n",
      "MAE (testset)     0.7769  0.7682  0.7742  0.7731  0.7781  0.7741  0.0034  \n",
      "Fit time          0.83    0.89    0.96    1.01    1.13    0.96    0.10    \n",
      "Test time         8.36    9.41    7.72    8.86    7.59    8.39    0.69    \n",
      "Computing the msd similarity matrix...\n",
      "Done computing similarity matrix.\n",
      "Computing the msd similarity matrix...\n",
      "Done computing similarity matrix.\n",
      "Computing the msd similarity matrix...\n",
      "Done computing similarity matrix.\n",
      "Computing the msd similarity matrix...\n",
      "Done computing similarity matrix.\n",
      "Computing the msd similarity matrix...\n",
      "Done computing similarity matrix.\n",
      "Evaluating RMSE, MAE of algorithm KNNWithMeans on 5 split(s).\n",
      "\n",
      "                  Fold 1  Fold 2  Fold 3  Fold 4  Fold 5  Mean    Std     \n",
      "RMSE (testset)    0.9518  0.9465  0.9572  0.9524  0.9480  0.9512  0.0037  \n",
      "MAE (testset)     0.7490  0.7461  0.7549  0.7501  0.7473  0.7495  0.0030  \n",
      "Fit time          1.28    0.89    1.20    0.90    1.08    1.07    0.16    \n",
      "Test time         9.71    8.31    8.20    9.62    8.32    8.83    0.68    \n",
      "Computing the msd similarity matrix...\n",
      "Done computing similarity matrix.\n",
      "Computing the msd similarity matrix...\n",
      "Done computing similarity matrix.\n",
      "Computing the msd similarity matrix...\n",
      "Done computing similarity matrix.\n",
      "Computing the msd similarity matrix...\n",
      "Done computing similarity matrix.\n",
      "Computing the msd similarity matrix...\n",
      "Done computing similarity matrix.\n",
      "Evaluating RMSE, MAE of algorithm KNNWithZScore on 5 split(s).\n",
      "\n",
      "                  Fold 1  Fold 2  Fold 3  Fold 4  Fold 5  Mean    Std     \n",
      "RMSE (testset)    0.9532  0.9544  0.9478  0.9464  0.9460  0.9496  0.0035  \n",
      "MAE (testset)     0.7491  0.7505  0.7457  0.7385  0.7409  0.7449  0.0046  \n",
      "Fit time          1.41    1.49    1.30    1.24    1.30    1.35    0.09    \n",
      "Test time         8.82    10.74   8.85    9.03    9.48    9.38    0.72    \n",
      "Evaluating RMSE, MAE of algorithm SlopeOne on 5 split(s).\n",
      "\n",
      "                  Fold 1  Fold 2  Fold 3  Fold 4  Fold 5  Mean    Std     \n",
      "RMSE (testset)    0.9344  0.9464  0.9441  0.9465  0.9521  0.9447  0.0058  \n",
      "MAE (testset)     0.7358  0.7450  0.7428  0.7435  0.7458  0.7426  0.0036  \n",
      "Fit time          1.86    1.95    1.73    1.91    1.91    1.87    0.07    \n",
      "Test time         5.30    5.65    6.63    5.59    5.82    5.80    0.45    \n",
      "Evaluating RMSE, MAE of algorithm CoClustering on 5 split(s).\n",
      "\n",
      "                  Fold 1  Fold 2  Fold 3  Fold 4  Fold 5  Mean    Std     \n",
      "RMSE (testset)    0.9649  0.9582  0.9717  0.9674  0.9617  0.9648  0.0047  \n",
      "MAE (testset)     0.7558  0.7516  0.7577  0.7582  0.7535  0.7554  0.0025  \n",
      "Fit time          4.01    3.77    4.39    3.86    4.44    4.09    0.27    \n",
      "Test time         0.49    0.17    0.22    0.43    0.50    0.36    0.14    \n",
      "Estimating biases using als...\n",
      "Estimating biases using als...\n",
      "Estimating biases using als...\n",
      "Estimating biases using als...\n",
      "Estimating biases using als...\n",
      "Evaluating RMSE, MAE of algorithm BaselineOnly on 5 split(s).\n",
      "\n",
      "                  Fold 1  Fold 2  Fold 3  Fold 4  Fold 5  Mean    Std     \n",
      "RMSE (testset)    0.9434  0.9438  0.9506  0.9417  0.9401  0.9439  0.0036  \n",
      "MAE (testset)     0.7484  0.7497  0.7530  0.7464  0.7436  0.7482  0.0032  \n",
      "Fit time          0.60    0.63    0.64    0.59    0.56    0.61    0.03    \n",
      "Test time         0.21    0.49    0.16    0.17    0.51    0.31    0.16    \n"
     ]
    }
   ],
   "source": [
    "# Load the movielens-100k dataset (download it if needed),\n",
    "data = Dataset.load_builtin(\"ml-100k\")\n",
    "\n",
    "# We'll use the famous SVD algorithm.\n",
    "algos = [SVD(), SVDpp(), NMF(), KNNBasic(), KNNWithMeans(), KNNWithZScore(), SlopeOne(), CoClustering(), BaselineOnly()]\n",
    "\n",
    "# Run 5-fold cross-validation and print results\n",
    "for algo in algos:\n",
    "    cross_validate(algo, data, measures=[\"RMSE\", \"MAE\"], cv=5, verbose=True)\n"
   ]
  },
  {
   "cell_type": "code",
   "execution_count": 12,
   "metadata": {},
   "outputs": [
    {
     "name": "stdout",
     "output_type": "stream",
     "text": [
      "Evaluating RMSE of algorithm NormalPredictor on 5 split(s).\n",
      "\n",
      "                  Fold 1  Fold 2  Fold 3  Fold 4  Fold 5  Mean    Std     \n",
      "RMSE (testset)    1.5230  1.5179  1.5239  1.5150  1.5240  1.5208  0.0037  \n",
      "Fit time          0.12    0.18    0.16    0.17    0.16    0.16    0.02    \n",
      "Test time         0.16    0.67    0.15    0.32    0.14    0.29    0.20    \n"
     ]
    },
    {
     "data": {
      "text/plain": [
       "{'test_rmse': array([1.52298734, 1.51791009, 1.52392043, 1.51500795, 1.52403469]),\n",
       " 'fit_time': (0.12103509902954102,\n",
       "  0.1755509376525879,\n",
       "  0.16237306594848633,\n",
       "  0.16876888275146484,\n",
       "  0.15611791610717773),\n",
       " 'test_time': (0.15979790687561035,\n",
       "  0.666395902633667,\n",
       "  0.1454458236694336,\n",
       "  0.31672120094299316,\n",
       "  0.14028406143188477)}"
      ]
     },
     "execution_count": 12,
     "metadata": {},
     "output_type": "execute_result"
    }
   ],
   "source": [
    "cross_validate(NormalPredictor(), data, measures=['RMSE'], cv=5, verbose=True)"
   ]
  },
  {
   "cell_type": "code",
   "execution_count": 13,
   "metadata": {},
   "outputs": [
    {
     "data": {
      "text/html": [
       "<div>\n",
       "<style scoped>\n",
       "    .dataframe tbody tr th:only-of-type {\n",
       "        vertical-align: middle;\n",
       "    }\n",
       "\n",
       "    .dataframe tbody tr th {\n",
       "        vertical-align: top;\n",
       "    }\n",
       "\n",
       "    .dataframe thead th {\n",
       "        text-align: right;\n",
       "    }\n",
       "</style>\n",
       "<table border=\"1\" class=\"dataframe\">\n",
       "  <thead>\n",
       "    <tr style=\"text-align: right;\">\n",
       "      <th></th>\n",
       "      <th>Mean RMSE</th>\n",
       "      <th>Avg. Fit Time</th>\n",
       "      <th>Avg. Test Time</th>\n",
       "    </tr>\n",
       "    <tr>\n",
       "      <th>Algorithms</th>\n",
       "      <th></th>\n",
       "      <th></th>\n",
       "      <th></th>\n",
       "    </tr>\n",
       "  </thead>\n",
       "  <tbody>\n",
       "    <tr>\n",
       "      <th>SVDpp</th>\n",
       "      <td>0.9170</td>\n",
       "      <td>57.32</td>\n",
       "      <td>9.59</td>\n",
       "    </tr>\n",
       "    <tr>\n",
       "      <th>SVD</th>\n",
       "      <td>0.9373</td>\n",
       "      <td>5.21</td>\n",
       "      <td>0.79</td>\n",
       "    </tr>\n",
       "    <tr>\n",
       "      <th>BaselineOnly</th>\n",
       "      <td>0.9439</td>\n",
       "      <td>0.61</td>\n",
       "      <td>0.31</td>\n",
       "    </tr>\n",
       "    <tr>\n",
       "      <th>SlopeOne</th>\n",
       "      <td>0.9447</td>\n",
       "      <td>1.87</td>\n",
       "      <td>5.80</td>\n",
       "    </tr>\n",
       "    <tr>\n",
       "      <th>KNNWithZScore</th>\n",
       "      <td>0.9496</td>\n",
       "      <td>1.35</td>\n",
       "      <td>9.38</td>\n",
       "    </tr>\n",
       "    <tr>\n",
       "      <th>KNNWithMeans</th>\n",
       "      <td>0.9512</td>\n",
       "      <td>1.07</td>\n",
       "      <td>8.83</td>\n",
       "    </tr>\n",
       "    <tr>\n",
       "      <th>NMF</th>\n",
       "      <td>0.9627</td>\n",
       "      <td>5.42</td>\n",
       "      <td>0.46</td>\n",
       "    </tr>\n",
       "    <tr>\n",
       "      <th>CoClustering</th>\n",
       "      <td>0.9648</td>\n",
       "      <td>4.09</td>\n",
       "      <td>0.36</td>\n",
       "    </tr>\n",
       "    <tr>\n",
       "      <th>KNNBasic</th>\n",
       "      <td>0.9800</td>\n",
       "      <td>0.96</td>\n",
       "      <td>8.39</td>\n",
       "    </tr>\n",
       "    <tr>\n",
       "      <th>NormalPredictor</th>\n",
       "      <td>1.5208</td>\n",
       "      <td>0.16</td>\n",
       "      <td>0.29</td>\n",
       "    </tr>\n",
       "  </tbody>\n",
       "</table>\n",
       "</div>"
      ],
      "text/plain": [
       "                 Mean RMSE  Avg. Fit Time  Avg. Test Time\n",
       "Algorithms                                               \n",
       "SVDpp               0.9170          57.32            9.59\n",
       "SVD                 0.9373           5.21            0.79\n",
       "BaselineOnly        0.9439           0.61            0.31\n",
       "SlopeOne            0.9447           1.87            5.80\n",
       "KNNWithZScore       0.9496           1.35            9.38\n",
       "KNNWithMeans        0.9512           1.07            8.83\n",
       "NMF                 0.9627           5.42            0.46\n",
       "CoClustering        0.9648           4.09            0.36\n",
       "KNNBasic            0.9800           0.96            8.39\n",
       "NormalPredictor     1.5208           0.16            0.29"
      ]
     },
     "execution_count": 13,
     "metadata": {},
     "output_type": "execute_result"
    }
   ],
   "source": [
    "pd.DataFrame(\n",
    "    {'Algorithms':['SVD', 'SVDpp', 'NMF', 'KNNBasic', 'KNNWithMeans', 'KNNWithZScore', 'SlopeOne', 'CoClustering', 'BaselineOnly', 'NormalPredictor'],\n",
    "    'Mean RMSE':[.9373, .9170, .9627, .9800, .9512, .9496, .9447, .9648, .9439, 1.5208],\n",
    "    'Avg. Fit Time': [5.21, 57.32, 5.42, .96, 1.07, 1.35, 1.87, 4.09, .61, .16],\n",
    "    'Avg. Test Time': [.79, 9.59, .46, 8.39, 8.83, 9.38, 5.8, .36, .31, .29]\n",
    "     }\n",
    ").set_index('Algorithms').sort_values('Mean RMSE')"
   ]
  },
  {
   "cell_type": "code",
   "execution_count": 14,
   "metadata": {},
   "outputs": [
    {
     "name": "stdout",
     "output_type": "stream",
     "text": [
      "Evaluating RMSE of algorithm SVDpp on 5 split(s).\n",
      "\n",
      "                  Fold 1  Fold 2  Fold 3  Fold 4  Fold 5  Mean    Std     \n",
      "RMSE (testset)    0.9224  0.9262  0.9260  0.9121  0.9079  0.9189  0.0075  \n",
      "Fit time          30.44   26.62   29.05   29.97   25.39   28.29   1.96    \n",
      "Test time         5.01    4.90    5.17    5.31    6.11    5.30    0.43    \n"
     ]
    },
    {
     "data": {
      "text/plain": [
       "{'test_rmse': array([0.92239569, 0.92622098, 0.92597743, 0.91207983, 0.90791844]),\n",
       " 'fit_time': (30.444926977157593,\n",
       "  26.62021827697754,\n",
       "  29.052200078964233,\n",
       "  29.97010612487793,\n",
       "  25.385390281677246),\n",
       " 'test_time': (5.010303020477295,\n",
       "  4.904877662658691,\n",
       "  5.167024850845337,\n",
       "  5.3132219314575195,\n",
       "  6.1090171337127686)}"
      ]
     },
     "execution_count": 14,
     "metadata": {},
     "output_type": "execute_result"
    }
   ],
   "source": [
    "model = SVDpp()\n",
    "cross_validate(model, data, measures=['RMSE'], cv=5, verbose=True)"
   ]
  },
  {
   "cell_type": "code",
   "execution_count": 18,
   "metadata": {},
   "outputs": [
    {
     "data": {
      "text/plain": [
       "array([[ 0.09293868,  0.16079092,  0.13617895, ...,  0.11561578,\n",
       "        -0.06189626,  0.04754225],\n",
       "       [-0.0048637 , -0.16170747, -0.2044498 , ..., -0.16417532,\n",
       "        -0.04711465,  0.0431397 ],\n",
       "       [ 0.01202486, -0.21278275,  0.14290815, ..., -0.02915404,\n",
       "         0.05851256, -0.02504775],\n",
       "       ...,\n",
       "       [-0.18503981, -0.0806711 , -0.13905852, ...,  0.00092375,\n",
       "         0.00471877, -0.02718251],\n",
       "       [-0.09941689, -0.10737412,  0.09639437, ...,  0.10065759,\n",
       "        -0.01216662,  0.03236063],\n",
       "       [ 0.45638677,  0.29556228,  0.11635725, ..., -0.04010518,\n",
       "        -0.06973813,  0.0671992 ]])"
      ]
     },
     "execution_count": 18,
     "metadata": {},
     "output_type": "execute_result"
    }
   ],
   "source": [
    "model.pu @ model.qi.T # All model predictions"
   ]
  },
  {
   "cell_type": "code",
   "execution_count": null,
   "metadata": {},
   "outputs": [],
   "source": []
  }
 ],
 "metadata": {
  "kernelspec": {
   "display_name": "threeML",
   "language": "python",
   "name": "python3"
  },
  "language_info": {
   "codemirror_mode": {
    "name": "ipython",
    "version": 3
   },
   "file_extension": ".py",
   "mimetype": "text/x-python",
   "name": "python",
   "nbconvert_exporter": "python",
   "pygments_lexer": "ipython3",
   "version": "3.7.12"
  },
  "vscode": {
   "interpreter": {
    "hash": "6a8928d6b6a07e0ed465d32f5bf5af9b2ab2f88849a9b2672ccc4b697fae7c51"
   }
  }
 },
 "nbformat": 4,
 "nbformat_minor": 4
}
