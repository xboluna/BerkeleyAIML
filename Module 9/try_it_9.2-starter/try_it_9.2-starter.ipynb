{
 "cells": [
  {
   "cell_type": "markdown",
   "metadata": {},
   "source": [
    "### Try-it 9.2: Predicting Wages\n",
    "\n",
    "This activity is meant to summarize your work with regularized regression models.  You will use your earlier work with data preparation and pipelines together with what you've learned with grid searches to determine an optimal model.  In addition to the prior strategies, this example is an excellent opportunity to utilize the `TransformedTargetRegressor` estimator in scikitlearn."
   ]
  },
  {
   "cell_type": "markdown",
   "metadata": {},
   "source": [
    "### The Data\n",
    "\n",
    "This dataset is loaded from the openml resource library.  Originally from census data, the data contains wage and demographic information on 534 individuals. From the dataset documentation [here](https://www.openml.org/d/534)\n",
    "\n",
    "```\n",
    "The Current Population Survey (CPS) is used to supplement census information between census years. These data consist of a random sample of 534 persons from the CPS, with information on wages and other characteristics of the workers, including sex, number of years of education, years of work experience, occupational status, region of residence and union membership. \n",
    "```"
   ]
  },
  {
   "cell_type": "code",
   "execution_count": 2,
   "metadata": {},
   "outputs": [],
   "source": [
    "from sklearn.datasets import fetch_openml\n",
    "import pandas as pd\n",
    "import plotly.express as px"
   ]
  },
  {
   "cell_type": "code",
   "execution_count": 3,
   "metadata": {},
   "outputs": [],
   "source": [
    "wages = fetch_openml(data_id=534, as_frame=True)\n",
    "#wages = pd.read_csv('cps_85_wages.arff')"
   ]
  },
  {
   "cell_type": "code",
   "execution_count": 4,
   "metadata": {},
   "outputs": [
    {
     "data": {
      "text/html": [
       "<div>\n",
       "<style scoped>\n",
       "    .dataframe tbody tr th:only-of-type {\n",
       "        vertical-align: middle;\n",
       "    }\n",
       "\n",
       "    .dataframe tbody tr th {\n",
       "        vertical-align: top;\n",
       "    }\n",
       "\n",
       "    .dataframe thead th {\n",
       "        text-align: right;\n",
       "    }\n",
       "</style>\n",
       "<table border=\"1\" class=\"dataframe\">\n",
       "  <thead>\n",
       "    <tr style=\"text-align: right;\">\n",
       "      <th></th>\n",
       "      <th>EDUCATION</th>\n",
       "      <th>SOUTH</th>\n",
       "      <th>SEX</th>\n",
       "      <th>EXPERIENCE</th>\n",
       "      <th>UNION</th>\n",
       "      <th>WAGE</th>\n",
       "      <th>AGE</th>\n",
       "      <th>RACE</th>\n",
       "      <th>OCCUPATION</th>\n",
       "      <th>SECTOR</th>\n",
       "      <th>MARR</th>\n",
       "    </tr>\n",
       "  </thead>\n",
       "  <tbody>\n",
       "    <tr>\n",
       "      <th>0</th>\n",
       "      <td>8.0</td>\n",
       "      <td>no</td>\n",
       "      <td>female</td>\n",
       "      <td>21.0</td>\n",
       "      <td>not_member</td>\n",
       "      <td>5.10</td>\n",
       "      <td>35.0</td>\n",
       "      <td>Hispanic</td>\n",
       "      <td>Other</td>\n",
       "      <td>Manufacturing</td>\n",
       "      <td>Married</td>\n",
       "    </tr>\n",
       "    <tr>\n",
       "      <th>1</th>\n",
       "      <td>9.0</td>\n",
       "      <td>no</td>\n",
       "      <td>female</td>\n",
       "      <td>42.0</td>\n",
       "      <td>not_member</td>\n",
       "      <td>4.95</td>\n",
       "      <td>57.0</td>\n",
       "      <td>White</td>\n",
       "      <td>Other</td>\n",
       "      <td>Manufacturing</td>\n",
       "      <td>Married</td>\n",
       "    </tr>\n",
       "    <tr>\n",
       "      <th>2</th>\n",
       "      <td>12.0</td>\n",
       "      <td>no</td>\n",
       "      <td>male</td>\n",
       "      <td>1.0</td>\n",
       "      <td>not_member</td>\n",
       "      <td>6.67</td>\n",
       "      <td>19.0</td>\n",
       "      <td>White</td>\n",
       "      <td>Other</td>\n",
       "      <td>Manufacturing</td>\n",
       "      <td>Unmarried</td>\n",
       "    </tr>\n",
       "    <tr>\n",
       "      <th>3</th>\n",
       "      <td>12.0</td>\n",
       "      <td>no</td>\n",
       "      <td>male</td>\n",
       "      <td>4.0</td>\n",
       "      <td>not_member</td>\n",
       "      <td>4.00</td>\n",
       "      <td>22.0</td>\n",
       "      <td>White</td>\n",
       "      <td>Other</td>\n",
       "      <td>Other</td>\n",
       "      <td>Unmarried</td>\n",
       "    </tr>\n",
       "    <tr>\n",
       "      <th>4</th>\n",
       "      <td>12.0</td>\n",
       "      <td>no</td>\n",
       "      <td>male</td>\n",
       "      <td>17.0</td>\n",
       "      <td>not_member</td>\n",
       "      <td>7.50</td>\n",
       "      <td>35.0</td>\n",
       "      <td>White</td>\n",
       "      <td>Other</td>\n",
       "      <td>Other</td>\n",
       "      <td>Married</td>\n",
       "    </tr>\n",
       "  </tbody>\n",
       "</table>\n",
       "</div>"
      ],
      "text/plain": [
       "   EDUCATION SOUTH     SEX  EXPERIENCE       UNION  WAGE   AGE      RACE  \\\n",
       "0        8.0    no  female        21.0  not_member  5.10  35.0  Hispanic   \n",
       "1        9.0    no  female        42.0  not_member  4.95  57.0     White   \n",
       "2       12.0    no    male         1.0  not_member  6.67  19.0     White   \n",
       "3       12.0    no    male         4.0  not_member  4.00  22.0     White   \n",
       "4       12.0    no    male        17.0  not_member  7.50  35.0     White   \n",
       "\n",
       "  OCCUPATION         SECTOR       MARR  \n",
       "0      Other  Manufacturing    Married  \n",
       "1      Other  Manufacturing    Married  \n",
       "2      Other  Manufacturing  Unmarried  \n",
       "3      Other          Other  Unmarried  \n",
       "4      Other          Other    Married  "
      ]
     },
     "execution_count": 4,
     "metadata": {},
     "output_type": "execute_result"
    }
   ],
   "source": [
    "wages.frame.head()"
   ]
  },
  {
   "cell_type": "code",
   "execution_count": 59,
   "metadata": {},
   "outputs": [
    {
     "data": {
      "application/vnd.plotly.v1+json": {
       "config": {
        "plotlyServerURL": "https://plot.ly"
       },
       "data": [
        {
         "alignmentgroup": "True",
         "box": {
          "visible": false
         },
         "hovertemplate": "OCCUPATION=Other<br>WAGE=%{y}<extra></extra>",
         "legendgroup": "Other",
         "marker": {
          "color": "#636efa"
         },
         "name": "Other",
         "offsetgroup": "Other",
         "orientation": "v",
         "scalegroup": "True",
         "showlegend": true,
         "type": "violin",
         "x0": " ",
         "xaxis": "x",
         "y": [
          5.1,
          4.95,
          6.67,
          4,
          7.5,
          13.07,
          4.45,
          19.47,
          13.28,
          8.75,
          11.35,
          11.5,
          6.5,
          6.25,
          19.98,
          7.3,
          8,
          22.2,
          3.65,
          20.55,
          5.71,
          7,
          3.75,
          4.5,
          9.56,
          5.75,
          9.36,
          6.5,
          3.35,
          4.75,
          8.9,
          4,
          4.7,
          5,
          9.25,
          10.67,
          7.61,
          10,
          7.5,
          12.2,
          3.35,
          11,
          12,
          4.85,
          4.3,
          6,
          15,
          4.85,
          9,
          6.36,
          9.15,
          11,
          4.5,
          4.8,
          4,
          5.5,
          8.4,
          6.75,
          10,
          5,
          6.5,
          10.75,
          7,
          11.43,
          4,
          9,
          13,
          12.22,
          6.28,
          6.75,
          3.35,
          16,
          5.25,
          3.5,
          4.22,
          3,
          4,
          10,
          5,
          16,
          13.98,
          13.26,
          6.1,
          3.75,
          9,
          9.45,
          5.5,
          8.93,
          6.25,
          9.75,
          6.73,
          7.78,
          2.85,
          3.35,
          19.98,
          8.5,
          9.75,
          15,
          8,
          11.25,
          14,
          10,
          6.5,
          9.83,
          18.5,
          12.5,
          26,
          14,
          10.5,
          11,
          12.47,
          12.5,
          15,
          6,
          9.5,
          5,
          3.75,
          12.57,
          6.88,
          5.5,
          7,
          4.5,
          6.5,
          12,
          5,
          6.5,
          6.8,
          8.75,
          3.75,
          4.5,
          6,
          5.5,
          13,
          5.65,
          4.8,
          7,
          5.25,
          3.35,
          8.5,
          6,
          6.75,
          8.89,
          14.21,
          10.78,
          8.9,
          7.5,
          4.5,
          11.25,
          13.45,
          6,
          4.62,
          10.58,
          5,
          8.2,
          6.25,
          8.5
         ],
         "y0": " ",
         "yaxis": "y"
        },
        {
         "alignmentgroup": "True",
         "box": {
          "visible": false
         },
         "hovertemplate": "OCCUPATION=Management<br>WAGE=%{y}<extra></extra>",
         "legendgroup": "Management",
         "marker": {
          "color": "#EF553B"
         },
         "name": "Management",
         "offsetgroup": "Management",
         "orientation": "v",
         "scalegroup": "True",
         "showlegend": true,
         "type": "violin",
         "x0": " ",
         "xaxis": "x",
         "y": [
          24.98,
          16.65,
          6.25,
          4.55,
          11.25,
          21.25,
          12.65,
          7.5,
          10.25,
          3.35,
          13.45,
          4.84,
          26.29,
          6.58,
          44.5,
          15,
          11.25,
          7,
          10,
          14.53,
          20,
          22.5,
          3.64,
          10.62,
          24.98,
          6,
          19,
          13.2,
          22.5,
          15,
          6.88,
          11.84,
          16.14,
          13.95,
          13.16,
          5.3,
          4.5,
          10,
          10,
          10,
          9.37,
          5.8,
          17.86,
          1,
          8.8,
          9,
          18.16,
          7.81,
          10.62,
          4.5,
          17.25,
          10.5,
          9.22,
          15,
          22.5
         ],
         "y0": " ",
         "yaxis": "y"
        },
        {
         "alignmentgroup": "True",
         "box": {
          "visible": false
         },
         "hovertemplate": "OCCUPATION=Sales<br>WAGE=%{y}<extra></extra>",
         "legendgroup": "Sales",
         "marker": {
          "color": "#00cc96"
         },
         "name": "Sales",
         "offsetgroup": "Sales",
         "orientation": "v",
         "scalegroup": "True",
         "showlegend": true,
         "type": "violin",
         "x0": " ",
         "xaxis": "x",
         "y": [
          4.55,
          9,
          13.33,
          15,
          7.5,
          4.25,
          12.5,
          5.13,
          3.35,
          11.11,
          3.84,
          6.4,
          5.56,
          10,
          5.65,
          11.5,
          3.5,
          3.35,
          4.75,
          19.98,
          3.5,
          4,
          7,
          6.25,
          4.5,
          14.29,
          5,
          13.75,
          13.71,
          7.5,
          3.8,
          5,
          9.42,
          5.5,
          3.75,
          3.5,
          5.8,
          12
         ],
         "y0": " ",
         "yaxis": "y"
        },
        {
         "alignmentgroup": "True",
         "box": {
          "visible": false
         },
         "hovertemplate": "OCCUPATION=Clerical<br>WAGE=%{y}<extra></extra>",
         "legendgroup": "Clerical",
         "marker": {
          "color": "#ab63fa"
         },
         "name": "Clerical",
         "offsetgroup": "Clerical",
         "orientation": "v",
         "scalegroup": "True",
         "showlegend": true,
         "type": "violin",
         "x0": " ",
         "xaxis": "x",
         "y": [
          5,
          8.75,
          10,
          8.5,
          8.63,
          9,
          5.5,
          11.11,
          10,
          5.2,
          8,
          3.56,
          5.2,
          11.67,
          11.32,
          7.5,
          5.5,
          5,
          7.75,
          5.25,
          9,
          9.65,
          5.21,
          7,
          12.16,
          5.25,
          10.32,
          3.35,
          7.7,
          9.17,
          8.43,
          4,
          4.13,
          3,
          4.25,
          7.53,
          10.53,
          5,
          15.03,
          11.25,
          6.25,
          3.5,
          6.85,
          12.5,
          12,
          6,
          9.5,
          4.1,
          10.43,
          5,
          7.69,
          5.5,
          6.4,
          12.5,
          6.25,
          8,
          9.6,
          9.1,
          7.5,
          5,
          7,
          3.55,
          8.5,
          4.5,
          7.88,
          5.25,
          5,
          9.33,
          10.5,
          7.5,
          9.5,
          9.6,
          5.87,
          11.02,
          5,
          5.62,
          12.5,
          10.81,
          5.4,
          7,
          4.59,
          6,
          11.71,
          5.62,
          5.5,
          4.85,
          6.75,
          4.25,
          5.75,
          3.5,
          3.35,
          10.62,
          8,
          4.75,
          8.5,
          8.85,
          8
         ],
         "y0": " ",
         "yaxis": "y"
        },
        {
         "alignmentgroup": "True",
         "box": {
          "visible": false
         },
         "hovertemplate": "OCCUPATION=Service<br>WAGE=%{y}<extra></extra>",
         "legendgroup": "Service",
         "marker": {
          "color": "#FFA15A"
         },
         "name": "Service",
         "offsetgroup": "Service",
         "orientation": "v",
         "scalegroup": "True",
         "showlegend": true,
         "type": "violin",
         "x0": " ",
         "xaxis": "x",
         "y": [
          6,
          7.14,
          3.4,
          6,
          3.75,
          8.89,
          4.35,
          13.1,
          4.35,
          3.5,
          3.8,
          5.26,
          3.35,
          16.26,
          4.25,
          4.5,
          8,
          4,
          7.96,
          4,
          4.15,
          5.95,
          3.6,
          8.75,
          3.4,
          4.28,
          5.35,
          5,
          7.65,
          6.94,
          7.5,
          3.6,
          1.75,
          3.45,
          9.63,
          8.49,
          8.99,
          3.65,
          3.5,
          3.43,
          5.5,
          6.93,
          3.51,
          3.75,
          4.17,
          9.57,
          14.67,
          12.5,
          5.5,
          5.15,
          8,
          5.83,
          3.35,
          7,
          10,
          8,
          6.88,
          5.55,
          7.5,
          8.93,
          9,
          3.5,
          5.77,
          25,
          6.85,
          6.5,
          3.75,
          3.5,
          4.5,
          2.01,
          4.17,
          13,
          3.98,
          7.5,
          13.12,
          4,
          3.95,
          13,
          9,
          4.55,
          9.5,
          4.5,
          8.75
         ],
         "y0": " ",
         "yaxis": "y"
        },
        {
         "alignmentgroup": "True",
         "box": {
          "visible": false
         },
         "hovertemplate": "OCCUPATION=Professional<br>WAGE=%{y}<extra></extra>",
         "legendgroup": "Professional",
         "marker": {
          "color": "#19d3f3"
         },
         "name": "Professional",
         "offsetgroup": "Professional",
         "orientation": "v",
         "scalegroup": "True",
         "showlegend": true,
         "type": "violin",
         "x0": " ",
         "xaxis": "x",
         "y": [
          10,
          18,
          24.98,
          12.05,
          22,
          8.75,
          22.2,
          17.25,
          6,
          8.06,
          9.24,
          12,
          10.61,
          5.71,
          10,
          17.5,
          15,
          7.78,
          7.8,
          10,
          24.98,
          10.28,
          15,
          12,
          10.58,
          5.85,
          11.22,
          8.56,
          13.89,
          5.71,
          15.79,
          7.5,
          11.25,
          6.15,
          13.45,
          6.25,
          6.5,
          12,
          8.5,
          8,
          5.75,
          15.73,
          9.86,
          13.51,
          5.4,
          6.25,
          5.5,
          5,
          6.25,
          5.75,
          20.5,
          5,
          7,
          18,
          12,
          20.4,
          22.2,
          16.42,
          8.63,
          19.38,
          14,
          10,
          15.95,
          20,
          10,
          24.98,
          11.25,
          22.83,
          10.2,
          10,
          14,
          12.5,
          5.79,
          24.98,
          4.35,
          11.25,
          6.67,
          8,
          18.16,
          12,
          8.89,
          9.5,
          13.65,
          12,
          15,
          12.67,
          7.38,
          15.56,
          7.45,
          6.25,
          6.25,
          9.37,
          22.5,
          7.5,
          7,
          5.75,
          7.67,
          12.5,
          16,
          11.79,
          11.36,
          6.1,
          23.25,
          19.88,
          15.38
         ],
         "y0": " ",
         "yaxis": "y"
        }
       ],
       "layout": {
        "legend": {
         "title": {
          "text": "OCCUPATION"
         },
         "tracegroupgap": 0
        },
        "margin": {
         "t": 60
        },
        "template": {
         "data": {
          "bar": [
           {
            "error_x": {
             "color": "#2a3f5f"
            },
            "error_y": {
             "color": "#2a3f5f"
            },
            "marker": {
             "line": {
              "color": "#E5ECF6",
              "width": 0.5
             },
             "pattern": {
              "fillmode": "overlay",
              "size": 10,
              "solidity": 0.2
             }
            },
            "type": "bar"
           }
          ],
          "barpolar": [
           {
            "marker": {
             "line": {
              "color": "#E5ECF6",
              "width": 0.5
             },
             "pattern": {
              "fillmode": "overlay",
              "size": 10,
              "solidity": 0.2
             }
            },
            "type": "barpolar"
           }
          ],
          "carpet": [
           {
            "aaxis": {
             "endlinecolor": "#2a3f5f",
             "gridcolor": "white",
             "linecolor": "white",
             "minorgridcolor": "white",
             "startlinecolor": "#2a3f5f"
            },
            "baxis": {
             "endlinecolor": "#2a3f5f",
             "gridcolor": "white",
             "linecolor": "white",
             "minorgridcolor": "white",
             "startlinecolor": "#2a3f5f"
            },
            "type": "carpet"
           }
          ],
          "choropleth": [
           {
            "colorbar": {
             "outlinewidth": 0,
             "ticks": ""
            },
            "type": "choropleth"
           }
          ],
          "contour": [
           {
            "colorbar": {
             "outlinewidth": 0,
             "ticks": ""
            },
            "colorscale": [
             [
              0,
              "#0d0887"
             ],
             [
              0.1111111111111111,
              "#46039f"
             ],
             [
              0.2222222222222222,
              "#7201a8"
             ],
             [
              0.3333333333333333,
              "#9c179e"
             ],
             [
              0.4444444444444444,
              "#bd3786"
             ],
             [
              0.5555555555555556,
              "#d8576b"
             ],
             [
              0.6666666666666666,
              "#ed7953"
             ],
             [
              0.7777777777777778,
              "#fb9f3a"
             ],
             [
              0.8888888888888888,
              "#fdca26"
             ],
             [
              1,
              "#f0f921"
             ]
            ],
            "type": "contour"
           }
          ],
          "contourcarpet": [
           {
            "colorbar": {
             "outlinewidth": 0,
             "ticks": ""
            },
            "type": "contourcarpet"
           }
          ],
          "heatmap": [
           {
            "colorbar": {
             "outlinewidth": 0,
             "ticks": ""
            },
            "colorscale": [
             [
              0,
              "#0d0887"
             ],
             [
              0.1111111111111111,
              "#46039f"
             ],
             [
              0.2222222222222222,
              "#7201a8"
             ],
             [
              0.3333333333333333,
              "#9c179e"
             ],
             [
              0.4444444444444444,
              "#bd3786"
             ],
             [
              0.5555555555555556,
              "#d8576b"
             ],
             [
              0.6666666666666666,
              "#ed7953"
             ],
             [
              0.7777777777777778,
              "#fb9f3a"
             ],
             [
              0.8888888888888888,
              "#fdca26"
             ],
             [
              1,
              "#f0f921"
             ]
            ],
            "type": "heatmap"
           }
          ],
          "heatmapgl": [
           {
            "colorbar": {
             "outlinewidth": 0,
             "ticks": ""
            },
            "colorscale": [
             [
              0,
              "#0d0887"
             ],
             [
              0.1111111111111111,
              "#46039f"
             ],
             [
              0.2222222222222222,
              "#7201a8"
             ],
             [
              0.3333333333333333,
              "#9c179e"
             ],
             [
              0.4444444444444444,
              "#bd3786"
             ],
             [
              0.5555555555555556,
              "#d8576b"
             ],
             [
              0.6666666666666666,
              "#ed7953"
             ],
             [
              0.7777777777777778,
              "#fb9f3a"
             ],
             [
              0.8888888888888888,
              "#fdca26"
             ],
             [
              1,
              "#f0f921"
             ]
            ],
            "type": "heatmapgl"
           }
          ],
          "histogram": [
           {
            "marker": {
             "pattern": {
              "fillmode": "overlay",
              "size": 10,
              "solidity": 0.2
             }
            },
            "type": "histogram"
           }
          ],
          "histogram2d": [
           {
            "colorbar": {
             "outlinewidth": 0,
             "ticks": ""
            },
            "colorscale": [
             [
              0,
              "#0d0887"
             ],
             [
              0.1111111111111111,
              "#46039f"
             ],
             [
              0.2222222222222222,
              "#7201a8"
             ],
             [
              0.3333333333333333,
              "#9c179e"
             ],
             [
              0.4444444444444444,
              "#bd3786"
             ],
             [
              0.5555555555555556,
              "#d8576b"
             ],
             [
              0.6666666666666666,
              "#ed7953"
             ],
             [
              0.7777777777777778,
              "#fb9f3a"
             ],
             [
              0.8888888888888888,
              "#fdca26"
             ],
             [
              1,
              "#f0f921"
             ]
            ],
            "type": "histogram2d"
           }
          ],
          "histogram2dcontour": [
           {
            "colorbar": {
             "outlinewidth": 0,
             "ticks": ""
            },
            "colorscale": [
             [
              0,
              "#0d0887"
             ],
             [
              0.1111111111111111,
              "#46039f"
             ],
             [
              0.2222222222222222,
              "#7201a8"
             ],
             [
              0.3333333333333333,
              "#9c179e"
             ],
             [
              0.4444444444444444,
              "#bd3786"
             ],
             [
              0.5555555555555556,
              "#d8576b"
             ],
             [
              0.6666666666666666,
              "#ed7953"
             ],
             [
              0.7777777777777778,
              "#fb9f3a"
             ],
             [
              0.8888888888888888,
              "#fdca26"
             ],
             [
              1,
              "#f0f921"
             ]
            ],
            "type": "histogram2dcontour"
           }
          ],
          "mesh3d": [
           {
            "colorbar": {
             "outlinewidth": 0,
             "ticks": ""
            },
            "type": "mesh3d"
           }
          ],
          "parcoords": [
           {
            "line": {
             "colorbar": {
              "outlinewidth": 0,
              "ticks": ""
             }
            },
            "type": "parcoords"
           }
          ],
          "pie": [
           {
            "automargin": true,
            "type": "pie"
           }
          ],
          "scatter": [
           {
            "fillpattern": {
             "fillmode": "overlay",
             "size": 10,
             "solidity": 0.2
            },
            "type": "scatter"
           }
          ],
          "scatter3d": [
           {
            "line": {
             "colorbar": {
              "outlinewidth": 0,
              "ticks": ""
             }
            },
            "marker": {
             "colorbar": {
              "outlinewidth": 0,
              "ticks": ""
             }
            },
            "type": "scatter3d"
           }
          ],
          "scattercarpet": [
           {
            "marker": {
             "colorbar": {
              "outlinewidth": 0,
              "ticks": ""
             }
            },
            "type": "scattercarpet"
           }
          ],
          "scattergeo": [
           {
            "marker": {
             "colorbar": {
              "outlinewidth": 0,
              "ticks": ""
             }
            },
            "type": "scattergeo"
           }
          ],
          "scattergl": [
           {
            "marker": {
             "colorbar": {
              "outlinewidth": 0,
              "ticks": ""
             }
            },
            "type": "scattergl"
           }
          ],
          "scattermapbox": [
           {
            "marker": {
             "colorbar": {
              "outlinewidth": 0,
              "ticks": ""
             }
            },
            "type": "scattermapbox"
           }
          ],
          "scatterpolar": [
           {
            "marker": {
             "colorbar": {
              "outlinewidth": 0,
              "ticks": ""
             }
            },
            "type": "scatterpolar"
           }
          ],
          "scatterpolargl": [
           {
            "marker": {
             "colorbar": {
              "outlinewidth": 0,
              "ticks": ""
             }
            },
            "type": "scatterpolargl"
           }
          ],
          "scatterternary": [
           {
            "marker": {
             "colorbar": {
              "outlinewidth": 0,
              "ticks": ""
             }
            },
            "type": "scatterternary"
           }
          ],
          "surface": [
           {
            "colorbar": {
             "outlinewidth": 0,
             "ticks": ""
            },
            "colorscale": [
             [
              0,
              "#0d0887"
             ],
             [
              0.1111111111111111,
              "#46039f"
             ],
             [
              0.2222222222222222,
              "#7201a8"
             ],
             [
              0.3333333333333333,
              "#9c179e"
             ],
             [
              0.4444444444444444,
              "#bd3786"
             ],
             [
              0.5555555555555556,
              "#d8576b"
             ],
             [
              0.6666666666666666,
              "#ed7953"
             ],
             [
              0.7777777777777778,
              "#fb9f3a"
             ],
             [
              0.8888888888888888,
              "#fdca26"
             ],
             [
              1,
              "#f0f921"
             ]
            ],
            "type": "surface"
           }
          ],
          "table": [
           {
            "cells": {
             "fill": {
              "color": "#EBF0F8"
             },
             "line": {
              "color": "white"
             }
            },
            "header": {
             "fill": {
              "color": "#C8D4E3"
             },
             "line": {
              "color": "white"
             }
            },
            "type": "table"
           }
          ]
         },
         "layout": {
          "annotationdefaults": {
           "arrowcolor": "#2a3f5f",
           "arrowhead": 0,
           "arrowwidth": 1
          },
          "autotypenumbers": "strict",
          "coloraxis": {
           "colorbar": {
            "outlinewidth": 0,
            "ticks": ""
           }
          },
          "colorscale": {
           "diverging": [
            [
             0,
             "#8e0152"
            ],
            [
             0.1,
             "#c51b7d"
            ],
            [
             0.2,
             "#de77ae"
            ],
            [
             0.3,
             "#f1b6da"
            ],
            [
             0.4,
             "#fde0ef"
            ],
            [
             0.5,
             "#f7f7f7"
            ],
            [
             0.6,
             "#e6f5d0"
            ],
            [
             0.7,
             "#b8e186"
            ],
            [
             0.8,
             "#7fbc41"
            ],
            [
             0.9,
             "#4d9221"
            ],
            [
             1,
             "#276419"
            ]
           ],
           "sequential": [
            [
             0,
             "#0d0887"
            ],
            [
             0.1111111111111111,
             "#46039f"
            ],
            [
             0.2222222222222222,
             "#7201a8"
            ],
            [
             0.3333333333333333,
             "#9c179e"
            ],
            [
             0.4444444444444444,
             "#bd3786"
            ],
            [
             0.5555555555555556,
             "#d8576b"
            ],
            [
             0.6666666666666666,
             "#ed7953"
            ],
            [
             0.7777777777777778,
             "#fb9f3a"
            ],
            [
             0.8888888888888888,
             "#fdca26"
            ],
            [
             1,
             "#f0f921"
            ]
           ],
           "sequentialminus": [
            [
             0,
             "#0d0887"
            ],
            [
             0.1111111111111111,
             "#46039f"
            ],
            [
             0.2222222222222222,
             "#7201a8"
            ],
            [
             0.3333333333333333,
             "#9c179e"
            ],
            [
             0.4444444444444444,
             "#bd3786"
            ],
            [
             0.5555555555555556,
             "#d8576b"
            ],
            [
             0.6666666666666666,
             "#ed7953"
            ],
            [
             0.7777777777777778,
             "#fb9f3a"
            ],
            [
             0.8888888888888888,
             "#fdca26"
            ],
            [
             1,
             "#f0f921"
            ]
           ]
          },
          "colorway": [
           "#636efa",
           "#EF553B",
           "#00cc96",
           "#ab63fa",
           "#FFA15A",
           "#19d3f3",
           "#FF6692",
           "#B6E880",
           "#FF97FF",
           "#FECB52"
          ],
          "font": {
           "color": "#2a3f5f"
          },
          "geo": {
           "bgcolor": "white",
           "lakecolor": "white",
           "landcolor": "#E5ECF6",
           "showlakes": true,
           "showland": true,
           "subunitcolor": "white"
          },
          "hoverlabel": {
           "align": "left"
          },
          "hovermode": "closest",
          "mapbox": {
           "style": "light"
          },
          "paper_bgcolor": "white",
          "plot_bgcolor": "#E5ECF6",
          "polar": {
           "angularaxis": {
            "gridcolor": "white",
            "linecolor": "white",
            "ticks": ""
           },
           "bgcolor": "#E5ECF6",
           "radialaxis": {
            "gridcolor": "white",
            "linecolor": "white",
            "ticks": ""
           }
          },
          "scene": {
           "xaxis": {
            "backgroundcolor": "#E5ECF6",
            "gridcolor": "white",
            "gridwidth": 2,
            "linecolor": "white",
            "showbackground": true,
            "ticks": "",
            "zerolinecolor": "white"
           },
           "yaxis": {
            "backgroundcolor": "#E5ECF6",
            "gridcolor": "white",
            "gridwidth": 2,
            "linecolor": "white",
            "showbackground": true,
            "ticks": "",
            "zerolinecolor": "white"
           },
           "zaxis": {
            "backgroundcolor": "#E5ECF6",
            "gridcolor": "white",
            "gridwidth": 2,
            "linecolor": "white",
            "showbackground": true,
            "ticks": "",
            "zerolinecolor": "white"
           }
          },
          "shapedefaults": {
           "line": {
            "color": "#2a3f5f"
           }
          },
          "ternary": {
           "aaxis": {
            "gridcolor": "white",
            "linecolor": "white",
            "ticks": ""
           },
           "baxis": {
            "gridcolor": "white",
            "linecolor": "white",
            "ticks": ""
           },
           "bgcolor": "#E5ECF6",
           "caxis": {
            "gridcolor": "white",
            "linecolor": "white",
            "ticks": ""
           }
          },
          "title": {
           "x": 0.05
          },
          "xaxis": {
           "automargin": true,
           "gridcolor": "white",
           "linecolor": "white",
           "ticks": "",
           "title": {
            "standoff": 15
           },
           "zerolinecolor": "white",
           "zerolinewidth": 2
          },
          "yaxis": {
           "automargin": true,
           "gridcolor": "white",
           "linecolor": "white",
           "ticks": "",
           "title": {
            "standoff": 15
           },
           "zerolinecolor": "white",
           "zerolinewidth": 2
          }
         }
        },
        "violinmode": "group",
        "xaxis": {
         "anchor": "y",
         "domain": [
          0,
          1
         ]
        },
        "yaxis": {
         "anchor": "x",
         "domain": [
          0,
          1
         ],
         "title": {
          "text": "WAGE"
         }
        }
       }
      }
     },
     "metadata": {},
     "output_type": "display_data"
    }
   ],
   "source": [
    "px.violin(wages.frame, y='WAGE', color='OCCUPATION')"
   ]
  },
  {
   "cell_type": "markdown",
   "metadata": {},
   "source": [
    "#### Task\n",
    "\n",
    "Build regression models to predict `WAGE`.  Incorporate the categorical features and transform the target using a logarithm.  Build `Ridge` models and consider some different amounts of regularization.  \n",
    "\n",
    "After fitting your model, interpret the model and try to understand what features led to higher wages.  Consider using `permutation_importance` that you encountered in module 8.  Discuss your findings in the class forum.\n",
    "\n",
    "For an in depth example discussing the perils of interpreting the coefficients see the example in scikitlearn examples [here](https://scikit-learn.org/stable/auto_examples/inspection/plot_linear_model_coefficient_interpretation.html)."
   ]
  },
  {
   "cell_type": "code",
   "execution_count": 5,
   "metadata": {},
   "outputs": [],
   "source": [
    "from sklearn.pipeline import Pipeline\n",
    "from sklearn.model_selection import GridSearchCV\n",
    "from sklearn.linear_model import LinearRegression, Ridge, Lasso\n",
    "from sklearn.preprocessing import PolynomialFeatures, StandardScaler, OneHotEncoder\n",
    "from sklearn.compose import make_column_transformer, TransformedTargetRegressor\n",
    "from sklearn.inspection import permutation_importance\n",
    "from sklearn.feature_selection import SequentialFeatureSelector\n",
    "import numpy as np\n",
    "import plotly.express as px\n",
    "import pandas as pd\n",
    "import warnings"
   ]
  },
  {
   "cell_type": "code",
   "execution_count": 6,
   "metadata": {},
   "outputs": [],
   "source": [
    "model = Pipeline((\n",
    "    ('tf', make_column_transformer(\n",
    "        (OneHotEncoder(drop='if_binary', handle_unknown='ignore'), ['SOUTH', 'SEX', 'UNION', 'RACE', 'OCCUPATION', 'SECTOR', 'MARR']),\n",
    "        remainder='passthrough'\n",
    "    )),\n",
    "    ('pf', PolynomialFeatures(degree=5)),\n",
    "    #('seq', SequentialFeatureSelector(estimator=LinearRegression())),\n",
    "    ('scale', StandardScaler()),\n",
    "    ('lr', Ridge())\n",
    "))\n",
    "\n",
    "parameters = {'lr__alpha': np.logspace(2,10,31)}#, 'seq__n_features_to_select': np.arange(1,10)}\n",
    "\n",
    "gs = GridSearchCV( estimator = model, scoring = 'neg_mean_squared_error', cv = 2, param_grid = parameters )"
   ]
  },
  {
   "cell_type": "code",
   "execution_count": 7,
   "metadata": {},
   "outputs": [
    {
     "name": "stderr",
     "output_type": "stream",
     "text": [
      "/Users/xboluna/opt/miniconda3/envs/threeML/lib/python3.7/site-packages/sklearn/preprocessing/_encoders.py:174: UserWarning: Found unknown categories in columns [4] during transform. These unknown categories will be encoded as all zeros\n",
      "  UserWarning,\n",
      "/Users/xboluna/opt/miniconda3/envs/threeML/lib/python3.7/site-packages/sklearn/preprocessing/_encoders.py:174: UserWarning: Found unknown categories in columns [4] during transform. These unknown categories will be encoded as all zeros\n",
      "  UserWarning,\n",
      "/Users/xboluna/opt/miniconda3/envs/threeML/lib/python3.7/site-packages/sklearn/preprocessing/_encoders.py:174: UserWarning: Found unknown categories in columns [4] during transform. These unknown categories will be encoded as all zeros\n",
      "  UserWarning,\n",
      "/Users/xboluna/opt/miniconda3/envs/threeML/lib/python3.7/site-packages/sklearn/preprocessing/_encoders.py:174: UserWarning: Found unknown categories in columns [4] during transform. These unknown categories will be encoded as all zeros\n",
      "  UserWarning,\n",
      "/Users/xboluna/opt/miniconda3/envs/threeML/lib/python3.7/site-packages/sklearn/preprocessing/_encoders.py:174: UserWarning: Found unknown categories in columns [4] during transform. These unknown categories will be encoded as all zeros\n",
      "  UserWarning,\n",
      "/Users/xboluna/opt/miniconda3/envs/threeML/lib/python3.7/site-packages/sklearn/preprocessing/_encoders.py:174: UserWarning: Found unknown categories in columns [4] during transform. These unknown categories will be encoded as all zeros\n",
      "  UserWarning,\n",
      "/Users/xboluna/opt/miniconda3/envs/threeML/lib/python3.7/site-packages/sklearn/preprocessing/_encoders.py:174: UserWarning: Found unknown categories in columns [4] during transform. These unknown categories will be encoded as all zeros\n",
      "  UserWarning,\n",
      "/Users/xboluna/opt/miniconda3/envs/threeML/lib/python3.7/site-packages/sklearn/preprocessing/_encoders.py:174: UserWarning: Found unknown categories in columns [4] during transform. These unknown categories will be encoded as all zeros\n",
      "  UserWarning,\n",
      "/Users/xboluna/opt/miniconda3/envs/threeML/lib/python3.7/site-packages/sklearn/preprocessing/_encoders.py:174: UserWarning: Found unknown categories in columns [4] during transform. These unknown categories will be encoded as all zeros\n",
      "  UserWarning,\n",
      "/Users/xboluna/opt/miniconda3/envs/threeML/lib/python3.7/site-packages/sklearn/preprocessing/_encoders.py:174: UserWarning: Found unknown categories in columns [4] during transform. These unknown categories will be encoded as all zeros\n",
      "  UserWarning,\n",
      "/Users/xboluna/opt/miniconda3/envs/threeML/lib/python3.7/site-packages/sklearn/preprocessing/_encoders.py:174: UserWarning: Found unknown categories in columns [4] during transform. These unknown categories will be encoded as all zeros\n",
      "  UserWarning,\n",
      "/Users/xboluna/opt/miniconda3/envs/threeML/lib/python3.7/site-packages/sklearn/preprocessing/_encoders.py:174: UserWarning: Found unknown categories in columns [4] during transform. These unknown categories will be encoded as all zeros\n",
      "  UserWarning,\n",
      "/Users/xboluna/opt/miniconda3/envs/threeML/lib/python3.7/site-packages/sklearn/preprocessing/_encoders.py:174: UserWarning: Found unknown categories in columns [4] during transform. These unknown categories will be encoded as all zeros\n",
      "  UserWarning,\n",
      "/Users/xboluna/opt/miniconda3/envs/threeML/lib/python3.7/site-packages/sklearn/preprocessing/_encoders.py:174: UserWarning: Found unknown categories in columns [4] during transform. These unknown categories will be encoded as all zeros\n",
      "  UserWarning,\n",
      "/Users/xboluna/opt/miniconda3/envs/threeML/lib/python3.7/site-packages/sklearn/preprocessing/_encoders.py:174: UserWarning: Found unknown categories in columns [4] during transform. These unknown categories will be encoded as all zeros\n",
      "  UserWarning,\n",
      "/Users/xboluna/opt/miniconda3/envs/threeML/lib/python3.7/site-packages/sklearn/preprocessing/_encoders.py:174: UserWarning: Found unknown categories in columns [4] during transform. These unknown categories will be encoded as all zeros\n",
      "  UserWarning,\n",
      "/Users/xboluna/opt/miniconda3/envs/threeML/lib/python3.7/site-packages/sklearn/preprocessing/_encoders.py:174: UserWarning: Found unknown categories in columns [4] during transform. These unknown categories will be encoded as all zeros\n",
      "  UserWarning,\n",
      "/Users/xboluna/opt/miniconda3/envs/threeML/lib/python3.7/site-packages/sklearn/preprocessing/_encoders.py:174: UserWarning: Found unknown categories in columns [4] during transform. These unknown categories will be encoded as all zeros\n",
      "  UserWarning,\n",
      "/Users/xboluna/opt/miniconda3/envs/threeML/lib/python3.7/site-packages/sklearn/preprocessing/_encoders.py:174: UserWarning: Found unknown categories in columns [4] during transform. These unknown categories will be encoded as all zeros\n",
      "  UserWarning,\n",
      "/Users/xboluna/opt/miniconda3/envs/threeML/lib/python3.7/site-packages/sklearn/preprocessing/_encoders.py:174: UserWarning: Found unknown categories in columns [4] during transform. These unknown categories will be encoded as all zeros\n",
      "  UserWarning,\n",
      "/Users/xboluna/opt/miniconda3/envs/threeML/lib/python3.7/site-packages/sklearn/preprocessing/_encoders.py:174: UserWarning: Found unknown categories in columns [4] during transform. These unknown categories will be encoded as all zeros\n",
      "  UserWarning,\n",
      "/Users/xboluna/opt/miniconda3/envs/threeML/lib/python3.7/site-packages/sklearn/preprocessing/_encoders.py:174: UserWarning: Found unknown categories in columns [4] during transform. These unknown categories will be encoded as all zeros\n",
      "  UserWarning,\n",
      "/Users/xboluna/opt/miniconda3/envs/threeML/lib/python3.7/site-packages/sklearn/preprocessing/_encoders.py:174: UserWarning: Found unknown categories in columns [4] during transform. These unknown categories will be encoded as all zeros\n",
      "  UserWarning,\n",
      "/Users/xboluna/opt/miniconda3/envs/threeML/lib/python3.7/site-packages/sklearn/preprocessing/_encoders.py:174: UserWarning: Found unknown categories in columns [4] during transform. These unknown categories will be encoded as all zeros\n",
      "  UserWarning,\n",
      "/Users/xboluna/opt/miniconda3/envs/threeML/lib/python3.7/site-packages/sklearn/preprocessing/_encoders.py:174: UserWarning: Found unknown categories in columns [4] during transform. These unknown categories will be encoded as all zeros\n",
      "  UserWarning,\n",
      "/Users/xboluna/opt/miniconda3/envs/threeML/lib/python3.7/site-packages/sklearn/preprocessing/_encoders.py:174: UserWarning: Found unknown categories in columns [4] during transform. These unknown categories will be encoded as all zeros\n",
      "  UserWarning,\n",
      "/Users/xboluna/opt/miniconda3/envs/threeML/lib/python3.7/site-packages/sklearn/preprocessing/_encoders.py:174: UserWarning: Found unknown categories in columns [4] during transform. These unknown categories will be encoded as all zeros\n",
      "  UserWarning,\n",
      "/Users/xboluna/opt/miniconda3/envs/threeML/lib/python3.7/site-packages/sklearn/preprocessing/_encoders.py:174: UserWarning: Found unknown categories in columns [4] during transform. These unknown categories will be encoded as all zeros\n",
      "  UserWarning,\n",
      "/Users/xboluna/opt/miniconda3/envs/threeML/lib/python3.7/site-packages/sklearn/preprocessing/_encoders.py:174: UserWarning: Found unknown categories in columns [4] during transform. These unknown categories will be encoded as all zeros\n",
      "  UserWarning,\n",
      "/Users/xboluna/opt/miniconda3/envs/threeML/lib/python3.7/site-packages/sklearn/preprocessing/_encoders.py:174: UserWarning: Found unknown categories in columns [4] during transform. These unknown categories will be encoded as all zeros\n",
      "  UserWarning,\n",
      "/Users/xboluna/opt/miniconda3/envs/threeML/lib/python3.7/site-packages/sklearn/preprocessing/_encoders.py:174: UserWarning: Found unknown categories in columns [4] during transform. These unknown categories will be encoded as all zeros\n",
      "  UserWarning,\n",
      "/Users/xboluna/opt/miniconda3/envs/threeML/lib/python3.7/site-packages/sklearn/preprocessing/_encoders.py:174: UserWarning: Found unknown categories in columns [4] during transform. These unknown categories will be encoded as all zeros\n",
      "  UserWarning,\n",
      "/Users/xboluna/opt/miniconda3/envs/threeML/lib/python3.7/site-packages/sklearn/preprocessing/_encoders.py:174: UserWarning: Found unknown categories in columns [4] during transform. These unknown categories will be encoded as all zeros\n",
      "  UserWarning,\n",
      "/Users/xboluna/opt/miniconda3/envs/threeML/lib/python3.7/site-packages/sklearn/preprocessing/_encoders.py:174: UserWarning: Found unknown categories in columns [4] during transform. These unknown categories will be encoded as all zeros\n",
      "  UserWarning,\n",
      "/Users/xboluna/opt/miniconda3/envs/threeML/lib/python3.7/site-packages/sklearn/preprocessing/_encoders.py:174: UserWarning: Found unknown categories in columns [4] during transform. These unknown categories will be encoded as all zeros\n",
      "  UserWarning,\n",
      "/Users/xboluna/opt/miniconda3/envs/threeML/lib/python3.7/site-packages/sklearn/preprocessing/_encoders.py:174: UserWarning: Found unknown categories in columns [4] during transform. These unknown categories will be encoded as all zeros\n",
      "  UserWarning,\n",
      "/Users/xboluna/opt/miniconda3/envs/threeML/lib/python3.7/site-packages/sklearn/preprocessing/_encoders.py:174: UserWarning: Found unknown categories in columns [4] during transform. These unknown categories will be encoded as all zeros\n",
      "  UserWarning,\n",
      "/Users/xboluna/opt/miniconda3/envs/threeML/lib/python3.7/site-packages/sklearn/preprocessing/_encoders.py:174: UserWarning: Found unknown categories in columns [4] during transform. These unknown categories will be encoded as all zeros\n",
      "  UserWarning,\n",
      "/Users/xboluna/opt/miniconda3/envs/threeML/lib/python3.7/site-packages/sklearn/preprocessing/_encoders.py:174: UserWarning: Found unknown categories in columns [4] during transform. These unknown categories will be encoded as all zeros\n",
      "  UserWarning,\n",
      "/Users/xboluna/opt/miniconda3/envs/threeML/lib/python3.7/site-packages/sklearn/preprocessing/_encoders.py:174: UserWarning: Found unknown categories in columns [4] during transform. These unknown categories will be encoded as all zeros\n",
      "  UserWarning,\n",
      "/Users/xboluna/opt/miniconda3/envs/threeML/lib/python3.7/site-packages/sklearn/preprocessing/_encoders.py:174: UserWarning: Found unknown categories in columns [4] during transform. These unknown categories will be encoded as all zeros\n",
      "  UserWarning,\n",
      "/Users/xboluna/opt/miniconda3/envs/threeML/lib/python3.7/site-packages/sklearn/preprocessing/_encoders.py:174: UserWarning: Found unknown categories in columns [4] during transform. These unknown categories will be encoded as all zeros\n",
      "  UserWarning,\n",
      "/Users/xboluna/opt/miniconda3/envs/threeML/lib/python3.7/site-packages/sklearn/preprocessing/_encoders.py:174: UserWarning: Found unknown categories in columns [4] during transform. These unknown categories will be encoded as all zeros\n",
      "  UserWarning,\n",
      "/Users/xboluna/opt/miniconda3/envs/threeML/lib/python3.7/site-packages/sklearn/preprocessing/_encoders.py:174: UserWarning: Found unknown categories in columns [4] during transform. These unknown categories will be encoded as all zeros\n",
      "  UserWarning,\n",
      "/Users/xboluna/opt/miniconda3/envs/threeML/lib/python3.7/site-packages/sklearn/preprocessing/_encoders.py:174: UserWarning: Found unknown categories in columns [4] during transform. These unknown categories will be encoded as all zeros\n",
      "  UserWarning,\n",
      "/Users/xboluna/opt/miniconda3/envs/threeML/lib/python3.7/site-packages/sklearn/preprocessing/_encoders.py:174: UserWarning: Found unknown categories in columns [4] during transform. These unknown categories will be encoded as all zeros\n",
      "  UserWarning,\n",
      "/Users/xboluna/opt/miniconda3/envs/threeML/lib/python3.7/site-packages/sklearn/preprocessing/_encoders.py:174: UserWarning: Found unknown categories in columns [4] during transform. These unknown categories will be encoded as all zeros\n",
      "  UserWarning,\n",
      "/Users/xboluna/opt/miniconda3/envs/threeML/lib/python3.7/site-packages/sklearn/preprocessing/_encoders.py:174: UserWarning: Found unknown categories in columns [4] during transform. These unknown categories will be encoded as all zeros\n",
      "  UserWarning,\n",
      "/Users/xboluna/opt/miniconda3/envs/threeML/lib/python3.7/site-packages/sklearn/preprocessing/_encoders.py:174: UserWarning: Found unknown categories in columns [4] during transform. These unknown categories will be encoded as all zeros\n",
      "  UserWarning,\n",
      "/Users/xboluna/opt/miniconda3/envs/threeML/lib/python3.7/site-packages/sklearn/preprocessing/_encoders.py:174: UserWarning: Found unknown categories in columns [4] during transform. These unknown categories will be encoded as all zeros\n",
      "  UserWarning,\n",
      "/Users/xboluna/opt/miniconda3/envs/threeML/lib/python3.7/site-packages/sklearn/preprocessing/_encoders.py:174: UserWarning: Found unknown categories in columns [4] during transform. These unknown categories will be encoded as all zeros\n",
      "  UserWarning,\n",
      "/Users/xboluna/opt/miniconda3/envs/threeML/lib/python3.7/site-packages/sklearn/preprocessing/_encoders.py:174: UserWarning: Found unknown categories in columns [4] during transform. These unknown categories will be encoded as all zeros\n",
      "  UserWarning,\n",
      "/Users/xboluna/opt/miniconda3/envs/threeML/lib/python3.7/site-packages/sklearn/preprocessing/_encoders.py:174: UserWarning: Found unknown categories in columns [4] during transform. These unknown categories will be encoded as all zeros\n",
      "  UserWarning,\n",
      "/Users/xboluna/opt/miniconda3/envs/threeML/lib/python3.7/site-packages/sklearn/preprocessing/_encoders.py:174: UserWarning: Found unknown categories in columns [4] during transform. These unknown categories will be encoded as all zeros\n",
      "  UserWarning,\n",
      "/Users/xboluna/opt/miniconda3/envs/threeML/lib/python3.7/site-packages/sklearn/preprocessing/_encoders.py:174: UserWarning: Found unknown categories in columns [4] during transform. These unknown categories will be encoded as all zeros\n",
      "  UserWarning,\n",
      "/Users/xboluna/opt/miniconda3/envs/threeML/lib/python3.7/site-packages/sklearn/preprocessing/_encoders.py:174: UserWarning: Found unknown categories in columns [4] during transform. These unknown categories will be encoded as all zeros\n",
      "  UserWarning,\n",
      "/Users/xboluna/opt/miniconda3/envs/threeML/lib/python3.7/site-packages/sklearn/preprocessing/_encoders.py:174: UserWarning: Found unknown categories in columns [4] during transform. These unknown categories will be encoded as all zeros\n",
      "  UserWarning,\n",
      "/Users/xboluna/opt/miniconda3/envs/threeML/lib/python3.7/site-packages/sklearn/preprocessing/_encoders.py:174: UserWarning: Found unknown categories in columns [4] during transform. These unknown categories will be encoded as all zeros\n",
      "  UserWarning,\n",
      "/Users/xboluna/opt/miniconda3/envs/threeML/lib/python3.7/site-packages/sklearn/preprocessing/_encoders.py:174: UserWarning: Found unknown categories in columns [4] during transform. These unknown categories will be encoded as all zeros\n",
      "  UserWarning,\n",
      "/Users/xboluna/opt/miniconda3/envs/threeML/lib/python3.7/site-packages/sklearn/preprocessing/_encoders.py:174: UserWarning: Found unknown categories in columns [4] during transform. These unknown categories will be encoded as all zeros\n",
      "  UserWarning,\n",
      "/Users/xboluna/opt/miniconda3/envs/threeML/lib/python3.7/site-packages/sklearn/preprocessing/_encoders.py:174: UserWarning: Found unknown categories in columns [4] during transform. These unknown categories will be encoded as all zeros\n",
      "  UserWarning,\n",
      "/Users/xboluna/opt/miniconda3/envs/threeML/lib/python3.7/site-packages/sklearn/preprocessing/_encoders.py:174: UserWarning: Found unknown categories in columns [4] during transform. These unknown categories will be encoded as all zeros\n",
      "  UserWarning,\n"
     ]
    },
    {
     "data": {
      "text/plain": [
       "GridSearchCV(cv=2,\n",
       "             estimator=Pipeline(steps=(('tf',\n",
       "                                        ColumnTransformer(remainder='passthrough',\n",
       "                                                          transformers=[('onehotencoder',\n",
       "                                                                         OneHotEncoder(drop='if_binary',\n",
       "                                                                                       handle_unknown='ignore'),\n",
       "                                                                         ['SOUTH',\n",
       "                                                                          'SEX',\n",
       "                                                                          'UNION',\n",
       "                                                                          'RACE',\n",
       "                                                                          'OCCUPATION',\n",
       "                                                                          'SECTOR',\n",
       "                                                                          'MARR'])])),\n",
       "                                       ('pf', PolynomialFeatures(degree=5)),\n",
       "                                       ('scale', StandardScaler()),\n",
       "                                       ('lr', Ridge()))),\n",
       "             param_grid={'lr__alpha': arr...\n",
       "       1.35935639e+04, 2.51188643e+04, 4.64158883e+04, 8.57695899e+04,\n",
       "       1.58489319e+05, 2.92864456e+05, 5.41169527e+05, 1.00000000e+06,\n",
       "       1.84784980e+06, 3.41454887e+06, 6.30957344e+06, 1.16591440e+07,\n",
       "       2.15443469e+07, 3.98107171e+07, 7.35642254e+07, 1.35935639e+08,\n",
       "       2.51188643e+08, 4.64158883e+08, 8.57695899e+08, 1.58489319e+09,\n",
       "       2.92864456e+09, 5.41169527e+09, 1.00000000e+10])},\n",
       "             scoring='neg_mean_squared_error')"
      ]
     },
     "execution_count": 7,
     "metadata": {},
     "output_type": "execute_result"
    }
   ],
   "source": [
    "X = wages.frame.drop('WAGE', axis=1)\n",
    "y = np.log(wages.frame['WAGE'])\n",
    "\n",
    "gs.fit(X,y)"
   ]
  },
  {
   "cell_type": "code",
   "execution_count": 8,
   "metadata": {},
   "outputs": [
    {
     "data": {
      "text/plain": [
       "{'mean_fit_time': array([0.45290804, 0.43660402, 0.37661862, 0.26829982, 0.47561646,\n",
       "        0.33311296, 0.33993137, 0.29447711, 0.30949199, 0.37750196,\n",
       "        0.28644538, 0.28449702, 0.29504597, 0.27275431, 0.24853241,\n",
       "        0.25498748, 0.29078484, 0.2818712 , 0.26059735, 0.25042439,\n",
       "        0.25999248, 0.3048985 , 0.30161059, 0.29204166, 0.29918551,\n",
       "        0.25759208, 0.28229642, 0.28500497, 0.28907049, 0.28671885,\n",
       "        0.26578939]),\n",
       " 'std_fit_time': array([0.14499903, 0.08799815, 0.05527258, 0.03593683, 0.2187016 ,\n",
       "        0.01545   , 0.02424467, 0.00264204, 0.04636276, 0.0966959 ,\n",
       "        0.00385547, 0.00025678, 0.0694679 , 0.04748642, 0.02783644,\n",
       "        0.0251255 , 0.06096911, 0.04847991, 0.03571856, 0.02661324,\n",
       "        0.03802145, 0.03630233, 0.00026166, 0.02623451, 0.0335536 ,\n",
       "        0.03002894, 0.04431653, 0.04701602, 0.03850734, 0.03183293,\n",
       "        0.03186357]),\n",
       " 'mean_score_time': array([0.09375656, 0.15310395, 0.10596812, 0.118613  , 0.16945803,\n",
       "        0.11545956, 0.10763562, 0.08845544, 0.10821116, 0.09725404,\n",
       "        0.08960223, 0.08737111, 0.09557903, 0.09248471, 0.08530807,\n",
       "        0.11610842, 0.10122168, 0.09196436, 0.08815217, 0.0866344 ,\n",
       "        0.09337008, 0.11648846, 0.09756339, 0.09490037, 0.09322643,\n",
       "        0.09756589, 0.08735156, 0.08777702, 0.08463609, 0.09868717,\n",
       "        0.10153067]),\n",
       " 'std_score_time': array([0.00259244, 0.06900394, 0.00662601, 0.01560402, 0.08111393,\n",
       "        0.01657736, 0.00993359, 0.00478458, 0.00229895, 0.02258205,\n",
       "        0.00971413, 0.01118588, 0.01591599, 0.01246357, 0.00738811,\n",
       "        0.02929044, 0.00861633, 0.01243246, 0.00988913, 0.00588274,\n",
       "        0.02028096, 0.00801659, 0.02084744, 0.00525355, 0.01566744,\n",
       "        0.01881504, 0.01096344, 0.00676596, 0.00971091, 0.01323509,\n",
       "        0.00752246]),\n",
       " 'param_lr__alpha': masked_array(data=[100.0, 184.78497974222907, 341.4548873833601,\n",
       "                    630.957344480193, 1165.9144011798312,\n",
       "                    2154.4346900318824, 3981.0717055349733,\n",
       "                    7356.422544596414, 13593.563908785241,\n",
       "                    25118.864315095823, 46415.888336127726,\n",
       "                    85769.58985908946, 158489.3192461114,\n",
       "                    292864.4564625237, 541169.5265464637, 1000000.0,\n",
       "                    1847849.7974222908, 3414548.873833601,\n",
       "                    6309573.44480193, 11659144.011798311,\n",
       "                    21544346.900318824, 39810717.05534969,\n",
       "                    73564225.44596407, 135935639.08785242,\n",
       "                    251188643.1509582, 464158883.36127913,\n",
       "                    857695898.5908946, 1584893192.4611108,\n",
       "                    2928644564.6252375, 5411695265.464648, 10000000000.0],\n",
       "              mask=[False, False, False, False, False, False, False, False,\n",
       "                    False, False, False, False, False, False, False, False,\n",
       "                    False, False, False, False, False, False, False, False,\n",
       "                    False, False, False, False, False, False, False],\n",
       "        fill_value='?',\n",
       "             dtype=object),\n",
       " 'params': [{'lr__alpha': 100.0},\n",
       "  {'lr__alpha': 184.78497974222907},\n",
       "  {'lr__alpha': 341.4548873833601},\n",
       "  {'lr__alpha': 630.957344480193},\n",
       "  {'lr__alpha': 1165.9144011798312},\n",
       "  {'lr__alpha': 2154.4346900318824},\n",
       "  {'lr__alpha': 3981.0717055349733},\n",
       "  {'lr__alpha': 7356.422544596414},\n",
       "  {'lr__alpha': 13593.563908785241},\n",
       "  {'lr__alpha': 25118.864315095823},\n",
       "  {'lr__alpha': 46415.888336127726},\n",
       "  {'lr__alpha': 85769.58985908946},\n",
       "  {'lr__alpha': 158489.3192461114},\n",
       "  {'lr__alpha': 292864.4564625237},\n",
       "  {'lr__alpha': 541169.5265464637},\n",
       "  {'lr__alpha': 1000000.0},\n",
       "  {'lr__alpha': 1847849.7974222908},\n",
       "  {'lr__alpha': 3414548.873833601},\n",
       "  {'lr__alpha': 6309573.44480193},\n",
       "  {'lr__alpha': 11659144.011798311},\n",
       "  {'lr__alpha': 21544346.900318824},\n",
       "  {'lr__alpha': 39810717.05534969},\n",
       "  {'lr__alpha': 73564225.44596407},\n",
       "  {'lr__alpha': 135935639.08785242},\n",
       "  {'lr__alpha': 251188643.1509582},\n",
       "  {'lr__alpha': 464158883.36127913},\n",
       "  {'lr__alpha': 857695898.5908946},\n",
       "  {'lr__alpha': 1584893192.4611108},\n",
       "  {'lr__alpha': 2928644564.6252375},\n",
       "  {'lr__alpha': 5411695265.464648},\n",
       "  {'lr__alpha': 10000000000.0}],\n",
       " 'split0_test_score': array([-0.43483315, -0.38591971, -0.35427398, -0.33334284, -0.31631286,\n",
       "        -0.29985959, -0.28539617, -0.27549098, -0.27072217, -0.26971985,\n",
       "        -0.2705184 , -0.27184408, -0.27355098, -0.27585653, -0.27850555,\n",
       "        -0.28091491, -0.28271949, -0.28390258, -0.28461667, -0.28502732,\n",
       "        -0.2852571 , -0.28538375, -0.28545296, -0.28549062, -0.28551106,\n",
       "        -0.28552214, -0.28552814, -0.28553139, -0.28553315, -0.2855341 ,\n",
       "        -0.28553462]),\n",
       " 'split1_test_score': array([-0.38953019, -0.34501212, -0.31577101, -0.29402633, -0.27698414,\n",
       "        -0.26390443, -0.25441507, -0.24831269, -0.24545542, -0.24533438,\n",
       "        -0.24711837, -0.25018401, -0.25415737, -0.2585234 , -0.26256203,\n",
       "        -0.26572291, -0.26788342, -0.26922696, -0.2700142 , -0.27045956,\n",
       "        -0.27070654, -0.270842  , -0.27091583, -0.27095595, -0.27097771,\n",
       "        -0.27098949, -0.27099588, -0.27099933, -0.2710012 , -0.27100221,\n",
       "        -0.27100276]),\n",
       " 'mean_test_score': array([-0.41218167, -0.36546591, -0.3350225 , -0.31368458, -0.2966485 ,\n",
       "        -0.28188201, -0.26990562, -0.26190183, -0.2580888 , -0.25752711,\n",
       "        -0.25881838, -0.26101405, -0.26385418, -0.26718997, -0.27053379,\n",
       "        -0.27331891, -0.27530146, -0.27656477, -0.27731543, -0.27774344,\n",
       "        -0.27798182, -0.27811287, -0.2781844 , -0.27822329, -0.27824438,\n",
       "        -0.27825582, -0.27826201, -0.27826536, -0.27826718, -0.27826816,\n",
       "        -0.27826869]),\n",
       " 'std_test_score': array([0.02265148, 0.02045379, 0.01925148, 0.01965825, 0.01966436,\n",
       "        0.01797758, 0.01549055, 0.01358915, 0.01263337, 0.01219273,\n",
       "        0.01170002, 0.01083003, 0.0096968 , 0.00866657, 0.00797176,\n",
       "        0.007596  , 0.00741804, 0.00733781, 0.00730123, 0.00728388,\n",
       "        0.00727528, 0.00727087, 0.00726856, 0.00726734, 0.00726668,\n",
       "        0.00726632, 0.00726613, 0.00726603, 0.00726597, 0.00726594,\n",
       "        0.00726593]),\n",
       " 'rank_test_score': array([31, 30, 29, 28, 27, 26,  8,  5,  2,  1,  3,  4,  6,  7,  9, 10, 11,\n",
       "        12, 13, 14, 15, 16, 17, 18, 19, 20, 21, 22, 23, 24, 25],\n",
       "       dtype=int32)}"
      ]
     },
     "execution_count": 8,
     "metadata": {},
     "output_type": "execute_result"
    }
   ],
   "source": [
    "gs.cv_results_"
   ]
  },
  {
   "cell_type": "code",
   "execution_count": 9,
   "metadata": {},
   "outputs": [
    {
     "data": {
      "text/plain": [
       "Text(0.5, 0, '$\\\\alpha$')"
      ]
     },
     "execution_count": 9,
     "metadata": {},
     "output_type": "execute_result"
    },
    {
     "data": {
      "image/png": "[encoded data removed]",
      "text/plain": [
       "<Figure size 640x480 with 1 Axes>"
      ]
     },
     "metadata": {},
     "output_type": "display_data"
    }
   ],
   "source": [
    "import matplotlib.pyplot as plt\n",
    "fig, ax = plt.subplots()\n",
    "\n",
    "ax.loglog(parameters['lr__alpha'], np.abs(gs.cv_results_['mean_test_score']))\n",
    "ax.set_ylabel('Mean squared error')\n",
    "ax.set_xlabel(r'$\\alpha$')"
   ]
  },
  {
   "cell_type": "code",
   "execution_count": 10,
   "metadata": {},
   "outputs": [
    {
     "data": {
      "text/plain": [
       "Pipeline(steps=[('tf',\n",
       "                 ColumnTransformer(remainder='passthrough',\n",
       "                                   transformers=[('onehotencoder',\n",
       "                                                  OneHotEncoder(drop='if_binary',\n",
       "                                                                handle_unknown='ignore'),\n",
       "                                                  ['SOUTH', 'SEX', 'UNION',\n",
       "                                                   'RACE', 'OCCUPATION',\n",
       "                                                   'SECTOR', 'MARR'])])),\n",
       "                ('pf', PolynomialFeatures(degree=5)),\n",
       "                ('scale', StandardScaler()),\n",
       "                ('lr', Ridge(alpha=25118.864315095823))])"
      ]
     },
     "execution_count": 10,
     "metadata": {},
     "output_type": "execute_result"
    }
   ],
   "source": [
    "best_model = gs.best_estimator_\n",
    "best_model"
   ]
  },
  {
   "cell_type": "code",
   "execution_count": 11,
   "metadata": {},
   "outputs": [
    {
     "data": {
      "text/html": [
       "<div>\n",
       "<style scoped>\n",
       "    .dataframe tbody tr th:only-of-type {\n",
       "        vertical-align: middle;\n",
       "    }\n",
       "\n",
       "    .dataframe tbody tr th {\n",
       "        vertical-align: top;\n",
       "    }\n",
       "\n",
       "    .dataframe thead th {\n",
       "        text-align: right;\n",
       "    }\n",
       "</style>\n",
       "<table border=\"1\" class=\"dataframe\">\n",
       "  <thead>\n",
       "    <tr style=\"text-align: right;\">\n",
       "      <th></th>\n",
       "      <th>0</th>\n",
       "    </tr>\n",
       "  </thead>\n",
       "  <tbody>\n",
       "    <tr>\n",
       "      <th>remainder__EDUCATION^2 remainder__AGE</th>\n",
       "      <td>0.001277</td>\n",
       "    </tr>\n",
       "    <tr>\n",
       "      <th>remainder__EDUCATION^3 remainder__AGE</th>\n",
       "      <td>0.001248</td>\n",
       "    </tr>\n",
       "    <tr>\n",
       "      <th>remainder__EDUCATION^2</th>\n",
       "      <td>0.001199</td>\n",
       "    </tr>\n",
       "    <tr>\n",
       "      <th>remainder__EDUCATION</th>\n",
       "      <td>0.001188</td>\n",
       "    </tr>\n",
       "    <tr>\n",
       "      <th>remainder__EDUCATION^4 remainder__AGE</th>\n",
       "      <td>0.001179</td>\n",
       "    </tr>\n",
       "    <tr>\n",
       "      <th>remainder__EDUCATION^3</th>\n",
       "      <td>0.001168</td>\n",
       "    </tr>\n",
       "    <tr>\n",
       "      <th>remainder__EDUCATION remainder__AGE</th>\n",
       "      <td>0.001136</td>\n",
       "    </tr>\n",
       "    <tr>\n",
       "      <th>remainder__EDUCATION^4</th>\n",
       "      <td>0.001119</td>\n",
       "    </tr>\n",
       "    <tr>\n",
       "      <th>remainder__EDUCATION^5</th>\n",
       "      <td>0.001064</td>\n",
       "    </tr>\n",
       "    <tr>\n",
       "      <th>remainder__EDUCATION^4 remainder__EXPERIENCE</th>\n",
       "      <td>0.001061</td>\n",
       "    </tr>\n",
       "    <tr>\n",
       "      <th>remainder__EDUCATION^3 remainder__EXPERIENCE</th>\n",
       "      <td>0.001052</td>\n",
       "    </tr>\n",
       "    <tr>\n",
       "      <th>remainder__EDUCATION^3 remainder__AGE^2</th>\n",
       "      <td>0.000984</td>\n",
       "    </tr>\n",
       "    <tr>\n",
       "      <th>onehotencoder__RACE_White remainder__EDUCATION^3 remainder__AGE</th>\n",
       "      <td>0.000963</td>\n",
       "    </tr>\n",
       "    <tr>\n",
       "      <th>remainder__EDUCATION^2 remainder__EXPERIENCE</th>\n",
       "      <td>0.000932</td>\n",
       "    </tr>\n",
       "    <tr>\n",
       "      <th>onehotencoder__RACE_White remainder__EDUCATION^4</th>\n",
       "      <td>0.000911</td>\n",
       "    </tr>\n",
       "  </tbody>\n",
       "</table>\n",
       "</div>"
      ],
      "text/plain": [
       "                                                           0\n",
       "remainder__EDUCATION^2 remainder__AGE               0.001277\n",
       "remainder__EDUCATION^3 remainder__AGE               0.001248\n",
       "remainder__EDUCATION^2                              0.001199\n",
       "remainder__EDUCATION                                0.001188\n",
       "remainder__EDUCATION^4 remainder__AGE               0.001179\n",
       "remainder__EDUCATION^3                              0.001168\n",
       "remainder__EDUCATION remainder__AGE                 0.001136\n",
       "remainder__EDUCATION^4                              0.001119\n",
       "remainder__EDUCATION^5                              0.001064\n",
       "remainder__EDUCATION^4 remainder__EXPERIENCE        0.001061\n",
       "remainder__EDUCATION^3 remainder__EXPERIENCE        0.001052\n",
       "remainder__EDUCATION^3 remainder__AGE^2             0.000984\n",
       "onehotencoder__RACE_White remainder__EDUCATION^...  0.000963\n",
       "remainder__EDUCATION^2 remainder__EXPERIENCE        0.000932\n",
       "onehotencoder__RACE_White remainder__EDUCATION^4    0.000911"
      ]
     },
     "execution_count": 11,
     "metadata": {},
     "output_type": "execute_result"
    }
   ],
   "source": [
    "df = pd.DataFrame( best_model['lr'].coef_, index=best_model[:-1].get_feature_names_out())\n",
    "np.abs(df).sort_values(by=0, ascending=False).head(15)"
   ]
  },
  {
   "cell_type": "code",
   "execution_count": 12,
   "metadata": {},
   "outputs": [],
   "source": [
    "p = permutation_importance(estimator = best_model, X=X, y=y)"
   ]
  },
  {
   "cell_type": "code",
   "execution_count": 13,
   "metadata": {},
   "outputs": [
    {
     "data": {
      "text/plain": [
       "{'importances_mean': array([0.0666678 , 0.04660778, 0.09523551, 0.04531406, 0.06523633,\n",
       "        0.02176734, 0.08714351, 0.3523928 , 0.0650977 , 0.07320895]),\n",
       " 'importances_std': array([0.00175718, 0.00438594, 0.00868947, 0.00672508, 0.00638528,\n",
       "        0.00618883, 0.01142392, 0.00955508, 0.01240144, 0.01607156]),\n",
       " 'importances': array([[0.06917631, 0.06539878, 0.06595471, 0.06826044, 0.06454876],\n",
       "        [0.05109871, 0.04278033, 0.04439025, 0.04212935, 0.05264026],\n",
       "        [0.09133203, 0.08106532, 0.10525028, 0.10305537, 0.09547452],\n",
       "        [0.05694439, 0.04827042, 0.03834507, 0.0430131 , 0.03999733],\n",
       "        [0.06208963, 0.05798643, 0.07535781, 0.06978488, 0.06096288],\n",
       "        [0.02790212, 0.02086059, 0.01868217, 0.02909935, 0.01229246],\n",
       "        [0.06608562, 0.09181878, 0.0917674 , 0.0860686 , 0.09997712],\n",
       "        [0.35156843, 0.34989813, 0.33902853, 0.3526158 , 0.3688531 ],\n",
       "        [0.07031693, 0.06565635, 0.07028629, 0.07770277, 0.04152618],\n",
       "        [0.08875327, 0.06555333, 0.09495075, 0.06470055, 0.05208687]])}"
      ]
     },
     "execution_count": 13,
     "metadata": {},
     "output_type": "execute_result"
    }
   ],
   "source": [
    "p"
   ]
  },
  {
   "cell_type": "code",
   "execution_count": 14,
   "metadata": {},
   "outputs": [
    {
     "data": {
      "text/plain": [
       "Index(['EDUCATION', 'SOUTH', 'SEX', 'EXPERIENCE', 'UNION', 'AGE', 'RACE',\n",
       "       'OCCUPATION', 'SECTOR', 'MARR'],\n",
       "      dtype='object')"
      ]
     },
     "execution_count": 14,
     "metadata": {},
     "output_type": "execute_result"
    }
   ],
   "source": [
    "X.columns"
   ]
  },
  {
   "cell_type": "code",
   "execution_count": 15,
   "metadata": {},
   "outputs": [
    {
     "data": {
      "text/plain": [
       "0.47092108101561336"
      ]
     },
     "execution_count": 15,
     "metadata": {},
     "output_type": "execute_result"
    }
   ],
   "source": [
    "best_model.score(X,y)"
   ]
  },
  {
   "cell_type": "code",
   "execution_count": 16,
   "metadata": {},
   "outputs": [
    {
     "data": {
      "text/plain": [
       "0.1470788083293858"
      ]
     },
     "execution_count": 16,
     "metadata": {},
     "output_type": "execute_result"
    }
   ],
   "source": [
    "from sklearn.metrics import mean_squared_error\n",
    "\n",
    "mean_squared_error(best_model.predict(X),y)"
   ]
  },
  {
   "cell_type": "code",
   "execution_count": null,
   "metadata": {},
   "outputs": [],
   "source": []
  }
 ],
 "metadata": {
  "kernelspec": {
   "display_name": "Python 3.7.12 ('threeML')",
   "language": "python",
   "name": "python3"
  },
  "language_info": {
   "codemirror_mode": {
    "name": "ipython",
    "version": 3
   },
   "file_extension": ".py",
   "mimetype": "text/x-python",
   "name": "python",
   "nbconvert_exporter": "python",
   "pygments_lexer": "ipython3",
   "version": "3.7.12"
  },
  "vscode": {
   "interpreter": {
    "hash": "6a8928d6b6a07e0ed465d32f5bf5af9b2ab2f88849a9b2672ccc4b697fae7c51"
   }
  },
  "widgets": {
   "application/vnd.jupyter.widget-state+json": {
    "state": {},
    "version_major": 2,
    "version_minor": 0
   }
  }
 },
 "nbformat": 4,
 "nbformat_minor": 4
}
